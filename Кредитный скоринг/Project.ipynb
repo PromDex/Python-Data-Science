{
 "cells": [
  {
   "cell_type": "code",
   "execution_count": 1,
   "metadata": {},
   "outputs": [],
   "source": [
    "import pandas as pd\n",
    "import numpy as np\n",
    "\n",
    "from matplotlib import pyplot as plt\n",
    "import seaborn as sns\n",
    "\n",
    "from sklearn.model_selection import train_test_split, GridSearchCV\n",
    "from sklearn.metrics import classification_report, f1_score, precision_score, recall_score, accuracy_score\n",
    "from sklearn.preprocessing import MinMaxScaler\n",
    "\n",
    "from sklearn.decomposition import PCA\n",
    "from sklearn.cluster import KMeans, AgglomerativeClustering\n",
    "from sklearn.neighbors import KNeighborsClassifier\n",
    "\n",
    "from sklearn.ensemble import RandomForestClassifier, RandomForestRegressor\n",
    "import catboost as catb"
   ]
  },
  {
   "cell_type": "code",
   "execution_count": 2,
   "metadata": {},
   "outputs": [],
   "source": [
    "%matplotlib inline"
   ]
  },
  {
   "cell_type": "code",
   "execution_count": 3,
   "metadata": {},
   "outputs": [],
   "source": [
    "data = pd.read_csv('course_project_train.csv')\n",
    "X_test = pd.read_csv('course_project_test.csv')"
   ]
  },
  {
   "cell_type": "code",
   "execution_count": 4,
   "metadata": {},
   "outputs": [],
   "source": [
    "X_test = pd.read_csv('course_project_test.csv')"
   ]
  },
  {
   "cell_type": "code",
   "execution_count": 5,
   "metadata": {},
   "outputs": [],
   "source": [
    "train, valid = train_test_split(data, test_size=0.25, random_state=21)"
   ]
  },
  {
   "cell_type": "markdown",
   "metadata": {},
   "source": [
    "Функции:"
   ]
  },
  {
   "cell_type": "code",
   "execution_count": 6,
   "metadata": {},
   "outputs": [],
   "source": [
    "def modify_data(df, median_annual_income, median_accounts, median_months_delinquent, median_years_history, median_max_credit, \n",
    "                median_current_credit_balance, median_monthly_debt, median_bankruptcies):\n",
    "    \n",
    "    df.loc[df['Bankruptcies'].isnull(), 'Bankruptcies'] = median_bankruptcies\n",
    "    df.loc[df['Annual Income'] > 5*10**6, 'Annual Income'] = median_annual_income\n",
    "    df.loc[df['Number of Open Accounts'] > 30, 'Number of Open Accounts'] = median_accounts\n",
    "    df.loc[df['Months since last delinquent'] > 100, 'Months since last delinquent'] = median_months_delinquent\n",
    "    df.loc[df['Years of Credit History'] > 45, 'Years of Credit History'] = median_years_history\n",
    "    df.loc[df['Maximum Open Credit'] > 10**7, 'Maximum Open Credit'] = median_max_credit\n",
    "    df.loc[df['Current Credit Balance'] > 3*10**6, 'Current Credit Balance'] = median_current_credit_balance\n",
    "    df.loc[df['Monthly Debt'] > 70000, 'Monthly Debt'] = median_monthly_debt\n",
    "    \n",
    "    df['Short Term'] = (df['Term'] == 'Short Term').astype(int)\n",
    "    df = df.drop('Term', axis=1)"
   ]
  },
  {
   "cell_type": "code",
   "execution_count": 7,
   "metadata": {},
   "outputs": [],
   "source": [
    "def get_classification_report(y_train_true, y_train_pred, y_test_true, y_test_pred):\n",
    "    \n",
    "    print('TRAIN\\n\\n' + classification_report(y_train_true, y_train_pred))\n",
    "    print('TEST\\n\\n' + classification_report(y_test_true, y_test_pred))\n",
    "    print('CONFUSION MATRIX\\n')\n",
    "    print(pd.crosstab(y_test_true, y_test_pred))"
   ]
  },
  {
   "cell_type": "code",
   "execution_count": 8,
   "metadata": {},
   "outputs": [],
   "source": [
    "def get_balance(df, target_name):\n",
    "    \n",
    "    target_counts = df[target_name].value_counts()\n",
    "    \n",
    "    target_class_1 = target_counts.argmax()\n",
    "    target_class_0 = target_counts.argmin()\n",
    "    \n",
    "    coeff = int(target_counts[target_class_1] / target_counts[target_class_0]) - 1\n",
    "    \n",
    "    for _ in range(coeff):\n",
    "        add_sample = df[df[target_name] == target_class_0].sample(frac=1)\n",
    "        df = df.append(add_sample, ignore_index=True)\n",
    "    \n",
    "    return df.sample(frac=1)    "
   ]
  },
  {
   "cell_type": "code",
   "execution_count": 9,
   "metadata": {},
   "outputs": [],
   "source": [
    "def show_proba_calibration(y_pred_proba, y_true_label, min_thr=0.1, max_thr=0.9):\n",
    "    \n",
    "    pred_true = np.array(list(zip(y_pred_proba, y_true_label)))\n",
    "    \n",
    "    thresholds = []\n",
    "    precisions = []\n",
    "    recalls = []\n",
    "    f1_scores = []\n",
    "    \n",
    "    for threshold in np.linspace(min_thr, max_thr, 9):\n",
    "        thresholds.append(threshold)\n",
    "        precisions.append(precision_score(y_true_label, list(map(int, y_pred_proba > threshold))))\n",
    "        recalls.append(recall_score(y_true_label, list(map(int, y_pred_proba > threshold))))\n",
    "        f1_scores.append(f1_score(y_true_label, list(map(int, y_pred_proba > threshold))))\n",
    "        \n",
    "    plt.plot(thresholds, precisions, label='Precision')\n",
    "    plt.plot(thresholds, recalls, label='Recall')\n",
    "    plt.plot(thresholds, f1_scores, label='F1')\n",
    "    \n",
    "    plt.xlabel('Threshold')\n",
    "    plt.ylabel('Scores')\n",
    "    plt.legend()"
   ]
  },
  {
   "cell_type": "code",
   "execution_count": 10,
   "metadata": {},
   "outputs": [],
   "source": [
    "def cluster_inertia(X, a=2, b=10):\n",
    "    inertias = []\n",
    "\n",
    "    for i in range(a, b):\n",
    "        temp_model = KMeans(n_clusters=i, random_state=100)\n",
    "        temp_model.fit(X)\n",
    "\n",
    "        temp_inertia = temp_model.inertia_\n",
    "        inertias.append(temp_inertia)\n",
    "\n",
    "    plt.plot(range(a, b), inertias)\n",
    "    plt.title('Inertia')"
   ]
  },
  {
   "cell_type": "markdown",
   "metadata": {},
   "source": [
    " "
   ]
  },
  {
   "cell_type": "code",
   "execution_count": 11,
   "metadata": {
    "scrolled": false
   },
   "outputs": [
    {
     "name": "stdout",
     "output_type": "stream",
     "text": [
      "<class 'pandas.core.frame.DataFrame'>\n",
      "Int64Index: 5625 entries, 4864 to 7113\n",
      "Data columns (total 17 columns):\n",
      "Home Ownership                  5625 non-null object\n",
      "Annual Income                   4439 non-null float64\n",
      "Years in current job            5348 non-null object\n",
      "Tax Liens                       5625 non-null float64\n",
      "Number of Open Accounts         5625 non-null float64\n",
      "Years of Credit History         5625 non-null float64\n",
      "Maximum Open Credit             5625 non-null float64\n",
      "Number of Credit Problems       5625 non-null float64\n",
      "Months since last delinquent    2569 non-null float64\n",
      "Bankruptcies                    5614 non-null float64\n",
      "Purpose                         5625 non-null object\n",
      "Term                            5625 non-null object\n",
      "Current Loan Amount             5625 non-null float64\n",
      "Current Credit Balance          5625 non-null float64\n",
      "Monthly Debt                    5625 non-null float64\n",
      "Credit Score                    4439 non-null float64\n",
      "Credit Default                  5625 non-null int64\n",
      "dtypes: float64(12), int64(1), object(4)\n",
      "memory usage: 791.0+ KB\n"
     ]
    }
   ],
   "source": [
    "train.info()"
   ]
  },
  {
   "cell_type": "code",
   "execution_count": 12,
   "metadata": {
    "scrolled": false
   },
   "outputs": [
    {
     "data": {
      "text/html": [
       "<div>\n",
       "<style scoped>\n",
       "    .dataframe tbody tr th:only-of-type {\n",
       "        vertical-align: middle;\n",
       "    }\n",
       "\n",
       "    .dataframe tbody tr th {\n",
       "        vertical-align: top;\n",
       "    }\n",
       "\n",
       "    .dataframe thead th {\n",
       "        text-align: right;\n",
       "    }\n",
       "</style>\n",
       "<table border=\"1\" class=\"dataframe\">\n",
       "  <thead>\n",
       "    <tr style=\"text-align: right;\">\n",
       "      <th></th>\n",
       "      <th>Annual Income</th>\n",
       "      <th>Tax Liens</th>\n",
       "      <th>Number of Open Accounts</th>\n",
       "      <th>Years of Credit History</th>\n",
       "      <th>Maximum Open Credit</th>\n",
       "      <th>Number of Credit Problems</th>\n",
       "      <th>Months since last delinquent</th>\n",
       "      <th>Bankruptcies</th>\n",
       "      <th>Current Loan Amount</th>\n",
       "      <th>Current Credit Balance</th>\n",
       "      <th>Monthly Debt</th>\n",
       "      <th>Credit Score</th>\n",
       "      <th>Credit Default</th>\n",
       "    </tr>\n",
       "  </thead>\n",
       "  <tbody>\n",
       "    <tr>\n",
       "      <th>count</th>\n",
       "      <td>4.439000e+03</td>\n",
       "      <td>5625.000000</td>\n",
       "      <td>5625.000000</td>\n",
       "      <td>5625.000000</td>\n",
       "      <td>5.625000e+03</td>\n",
       "      <td>5625.000000</td>\n",
       "      <td>2569.000000</td>\n",
       "      <td>5614.000000</td>\n",
       "      <td>5.625000e+03</td>\n",
       "      <td>5.625000e+03</td>\n",
       "      <td>5625.000000</td>\n",
       "      <td>4439.000000</td>\n",
       "      <td>5625.000000</td>\n",
       "    </tr>\n",
       "    <tr>\n",
       "      <th>mean</th>\n",
       "      <td>1.363759e+06</td>\n",
       "      <td>0.030044</td>\n",
       "      <td>11.152000</td>\n",
       "      <td>18.335431</td>\n",
       "      <td>1.022467e+06</td>\n",
       "      <td>0.166044</td>\n",
       "      <td>34.660179</td>\n",
       "      <td>0.113110</td>\n",
       "      <td>1.177759e+07</td>\n",
       "      <td>2.893465e+05</td>\n",
       "      <td>18361.642667</td>\n",
       "      <td>1154.096418</td>\n",
       "      <td>0.280711</td>\n",
       "    </tr>\n",
       "    <tr>\n",
       "      <th>std</th>\n",
       "      <td>8.279469e+05</td>\n",
       "      <td>0.264657</td>\n",
       "      <td>4.935844</td>\n",
       "      <td>7.084915</td>\n",
       "      <td>1.848610e+07</td>\n",
       "      <td>0.488654</td>\n",
       "      <td>21.622976</td>\n",
       "      <td>0.336395</td>\n",
       "      <td>3.180890e+07</td>\n",
       "      <td>3.175926e+05</td>\n",
       "      <td>12032.974719</td>\n",
       "      <td>1609.537996</td>\n",
       "      <td>0.449387</td>\n",
       "    </tr>\n",
       "    <tr>\n",
       "      <th>min</th>\n",
       "      <td>1.645970e+05</td>\n",
       "      <td>0.000000</td>\n",
       "      <td>2.000000</td>\n",
       "      <td>4.000000</td>\n",
       "      <td>0.000000e+00</td>\n",
       "      <td>0.000000</td>\n",
       "      <td>0.000000</td>\n",
       "      <td>0.000000</td>\n",
       "      <td>2.147200e+04</td>\n",
       "      <td>0.000000e+00</td>\n",
       "      <td>0.000000</td>\n",
       "      <td>585.000000</td>\n",
       "      <td>0.000000</td>\n",
       "    </tr>\n",
       "    <tr>\n",
       "      <th>25%</th>\n",
       "      <td>8.401325e+05</td>\n",
       "      <td>0.000000</td>\n",
       "      <td>8.000000</td>\n",
       "      <td>13.500000</td>\n",
       "      <td>2.801700e+05</td>\n",
       "      <td>0.000000</td>\n",
       "      <td>16.000000</td>\n",
       "      <td>0.000000</td>\n",
       "      <td>1.814340e+05</td>\n",
       "      <td>1.140950e+05</td>\n",
       "      <td>10039.000000</td>\n",
       "      <td>711.000000</td>\n",
       "      <td>0.000000</td>\n",
       "    </tr>\n",
       "    <tr>\n",
       "      <th>50%</th>\n",
       "      <td>1.171920e+06</td>\n",
       "      <td>0.000000</td>\n",
       "      <td>10.000000</td>\n",
       "      <td>17.000000</td>\n",
       "      <td>4.819100e+05</td>\n",
       "      <td>0.000000</td>\n",
       "      <td>32.000000</td>\n",
       "      <td>0.000000</td>\n",
       "      <td>3.111020e+05</td>\n",
       "      <td>2.092850e+05</td>\n",
       "      <td>16087.000000</td>\n",
       "      <td>731.000000</td>\n",
       "      <td>0.000000</td>\n",
       "    </tr>\n",
       "    <tr>\n",
       "      <th>75%</th>\n",
       "      <td>1.640460e+06</td>\n",
       "      <td>0.000000</td>\n",
       "      <td>14.000000</td>\n",
       "      <td>21.800000</td>\n",
       "      <td>7.930780e+05</td>\n",
       "      <td>0.000000</td>\n",
       "      <td>50.000000</td>\n",
       "      <td>0.000000</td>\n",
       "      <td>5.265700e+05</td>\n",
       "      <td>3.605060e+05</td>\n",
       "      <td>23888.000000</td>\n",
       "      <td>743.000000</td>\n",
       "      <td>1.000000</td>\n",
       "    </tr>\n",
       "    <tr>\n",
       "      <th>max</th>\n",
       "      <td>1.014934e+07</td>\n",
       "      <td>6.000000</td>\n",
       "      <td>42.000000</td>\n",
       "      <td>57.700000</td>\n",
       "      <td>1.304726e+09</td>\n",
       "      <td>6.000000</td>\n",
       "      <td>118.000000</td>\n",
       "      <td>4.000000</td>\n",
       "      <td>1.000000e+08</td>\n",
       "      <td>6.506797e+06</td>\n",
       "      <td>136679.000000</td>\n",
       "      <td>7510.000000</td>\n",
       "      <td>1.000000</td>\n",
       "    </tr>\n",
       "  </tbody>\n",
       "</table>\n",
       "</div>"
      ],
      "text/plain": [
       "       Annual Income    Tax Liens  Number of Open Accounts  \\\n",
       "count   4.439000e+03  5625.000000              5625.000000   \n",
       "mean    1.363759e+06     0.030044                11.152000   \n",
       "std     8.279469e+05     0.264657                 4.935844   \n",
       "min     1.645970e+05     0.000000                 2.000000   \n",
       "25%     8.401325e+05     0.000000                 8.000000   \n",
       "50%     1.171920e+06     0.000000                10.000000   \n",
       "75%     1.640460e+06     0.000000                14.000000   \n",
       "max     1.014934e+07     6.000000                42.000000   \n",
       "\n",
       "       Years of Credit History  Maximum Open Credit  \\\n",
       "count              5625.000000         5.625000e+03   \n",
       "mean                 18.335431         1.022467e+06   \n",
       "std                   7.084915         1.848610e+07   \n",
       "min                   4.000000         0.000000e+00   \n",
       "25%                  13.500000         2.801700e+05   \n",
       "50%                  17.000000         4.819100e+05   \n",
       "75%                  21.800000         7.930780e+05   \n",
       "max                  57.700000         1.304726e+09   \n",
       "\n",
       "       Number of Credit Problems  Months since last delinquent  Bankruptcies  \\\n",
       "count                5625.000000                   2569.000000   5614.000000   \n",
       "mean                    0.166044                     34.660179      0.113110   \n",
       "std                     0.488654                     21.622976      0.336395   \n",
       "min                     0.000000                      0.000000      0.000000   \n",
       "25%                     0.000000                     16.000000      0.000000   \n",
       "50%                     0.000000                     32.000000      0.000000   \n",
       "75%                     0.000000                     50.000000      0.000000   \n",
       "max                     6.000000                    118.000000      4.000000   \n",
       "\n",
       "       Current Loan Amount  Current Credit Balance   Monthly Debt  \\\n",
       "count         5.625000e+03            5.625000e+03    5625.000000   \n",
       "mean          1.177759e+07            2.893465e+05   18361.642667   \n",
       "std           3.180890e+07            3.175926e+05   12032.974719   \n",
       "min           2.147200e+04            0.000000e+00       0.000000   \n",
       "25%           1.814340e+05            1.140950e+05   10039.000000   \n",
       "50%           3.111020e+05            2.092850e+05   16087.000000   \n",
       "75%           5.265700e+05            3.605060e+05   23888.000000   \n",
       "max           1.000000e+08            6.506797e+06  136679.000000   \n",
       "\n",
       "       Credit Score  Credit Default  \n",
       "count   4439.000000     5625.000000  \n",
       "mean    1154.096418        0.280711  \n",
       "std     1609.537996        0.449387  \n",
       "min      585.000000        0.000000  \n",
       "25%      711.000000        0.000000  \n",
       "50%      731.000000        0.000000  \n",
       "75%      743.000000        1.000000  \n",
       "max     7510.000000        1.000000  "
      ]
     },
     "execution_count": 12,
     "metadata": {},
     "output_type": "execute_result"
    }
   ],
   "source": [
    "train.describe()"
   ]
  },
  {
   "cell_type": "code",
   "execution_count": 13,
   "metadata": {},
   "outputs": [
    {
     "data": {
      "text/html": [
       "<div>\n",
       "<style scoped>\n",
       "    .dataframe tbody tr th:only-of-type {\n",
       "        vertical-align: middle;\n",
       "    }\n",
       "\n",
       "    .dataframe tbody tr th {\n",
       "        vertical-align: top;\n",
       "    }\n",
       "\n",
       "    .dataframe thead th {\n",
       "        text-align: right;\n",
       "    }\n",
       "</style>\n",
       "<table border=\"1\" class=\"dataframe\">\n",
       "  <thead>\n",
       "    <tr style=\"text-align: right;\">\n",
       "      <th></th>\n",
       "      <th>Home Ownership</th>\n",
       "      <th>Annual Income</th>\n",
       "      <th>Years in current job</th>\n",
       "      <th>Tax Liens</th>\n",
       "      <th>Number of Open Accounts</th>\n",
       "      <th>Years of Credit History</th>\n",
       "      <th>Maximum Open Credit</th>\n",
       "      <th>Number of Credit Problems</th>\n",
       "      <th>Months since last delinquent</th>\n",
       "      <th>Bankruptcies</th>\n",
       "      <th>Purpose</th>\n",
       "      <th>Term</th>\n",
       "      <th>Current Loan Amount</th>\n",
       "      <th>Current Credit Balance</th>\n",
       "      <th>Monthly Debt</th>\n",
       "      <th>Credit Score</th>\n",
       "      <th>Credit Default</th>\n",
       "    </tr>\n",
       "  </thead>\n",
       "  <tbody>\n",
       "    <tr>\n",
       "      <th>4864</th>\n",
       "      <td>Rent</td>\n",
       "      <td>1599553.0</td>\n",
       "      <td>8 years</td>\n",
       "      <td>0.0</td>\n",
       "      <td>8.0</td>\n",
       "      <td>19.2</td>\n",
       "      <td>872542.0</td>\n",
       "      <td>0.0</td>\n",
       "      <td>14.0</td>\n",
       "      <td>0.0</td>\n",
       "      <td>debt consolidation</td>\n",
       "      <td>Long Term</td>\n",
       "      <td>535546.0</td>\n",
       "      <td>622440.0</td>\n",
       "      <td>41988.0</td>\n",
       "      <td>663.0</td>\n",
       "      <td>0</td>\n",
       "    </tr>\n",
       "    <tr>\n",
       "      <th>7199</th>\n",
       "      <td>Rent</td>\n",
       "      <td>886844.0</td>\n",
       "      <td>1 year</td>\n",
       "      <td>0.0</td>\n",
       "      <td>7.0</td>\n",
       "      <td>6.6</td>\n",
       "      <td>225148.0</td>\n",
       "      <td>0.0</td>\n",
       "      <td>NaN</td>\n",
       "      <td>0.0</td>\n",
       "      <td>debt consolidation</td>\n",
       "      <td>Long Term</td>\n",
       "      <td>262174.0</td>\n",
       "      <td>113544.0</td>\n",
       "      <td>13820.0</td>\n",
       "      <td>688.0</td>\n",
       "      <td>1</td>\n",
       "    </tr>\n",
       "    <tr>\n",
       "      <th>4716</th>\n",
       "      <td>Rent</td>\n",
       "      <td>NaN</td>\n",
       "      <td>NaN</td>\n",
       "      <td>0.0</td>\n",
       "      <td>5.0</td>\n",
       "      <td>51.5</td>\n",
       "      <td>485672.0</td>\n",
       "      <td>0.0</td>\n",
       "      <td>14.0</td>\n",
       "      <td>0.0</td>\n",
       "      <td>debt consolidation</td>\n",
       "      <td>Long Term</td>\n",
       "      <td>614614.0</td>\n",
       "      <td>416518.0</td>\n",
       "      <td>16541.0</td>\n",
       "      <td>NaN</td>\n",
       "      <td>1</td>\n",
       "    </tr>\n",
       "    <tr>\n",
       "      <th>2560</th>\n",
       "      <td>Rent</td>\n",
       "      <td>1322419.0</td>\n",
       "      <td>2 years</td>\n",
       "      <td>0.0</td>\n",
       "      <td>5.0</td>\n",
       "      <td>4.5</td>\n",
       "      <td>242770.0</td>\n",
       "      <td>0.0</td>\n",
       "      <td>NaN</td>\n",
       "      <td>0.0</td>\n",
       "      <td>other</td>\n",
       "      <td>Short Term</td>\n",
       "      <td>131252.0</td>\n",
       "      <td>62054.0</td>\n",
       "      <td>10822.0</td>\n",
       "      <td>749.0</td>\n",
       "      <td>0</td>\n",
       "    </tr>\n",
       "    <tr>\n",
       "      <th>3474</th>\n",
       "      <td>Rent</td>\n",
       "      <td>513095.0</td>\n",
       "      <td>10+ years</td>\n",
       "      <td>0.0</td>\n",
       "      <td>4.0</td>\n",
       "      <td>13.2</td>\n",
       "      <td>143022.0</td>\n",
       "      <td>0.0</td>\n",
       "      <td>NaN</td>\n",
       "      <td>0.0</td>\n",
       "      <td>debt consolidation</td>\n",
       "      <td>Short Term</td>\n",
       "      <td>99999999.0</td>\n",
       "      <td>113639.0</td>\n",
       "      <td>10775.0</td>\n",
       "      <td>727.0</td>\n",
       "      <td>0</td>\n",
       "    </tr>\n",
       "  </tbody>\n",
       "</table>\n",
       "</div>"
      ],
      "text/plain": [
       "     Home Ownership  Annual Income Years in current job  Tax Liens  \\\n",
       "4864           Rent      1599553.0              8 years        0.0   \n",
       "7199           Rent       886844.0               1 year        0.0   \n",
       "4716           Rent            NaN                  NaN        0.0   \n",
       "2560           Rent      1322419.0              2 years        0.0   \n",
       "3474           Rent       513095.0            10+ years        0.0   \n",
       "\n",
       "      Number of Open Accounts  Years of Credit History  Maximum Open Credit  \\\n",
       "4864                      8.0                     19.2             872542.0   \n",
       "7199                      7.0                      6.6             225148.0   \n",
       "4716                      5.0                     51.5             485672.0   \n",
       "2560                      5.0                      4.5             242770.0   \n",
       "3474                      4.0                     13.2             143022.0   \n",
       "\n",
       "      Number of Credit Problems  Months since last delinquent  Bankruptcies  \\\n",
       "4864                        0.0                          14.0           0.0   \n",
       "7199                        0.0                           NaN           0.0   \n",
       "4716                        0.0                          14.0           0.0   \n",
       "2560                        0.0                           NaN           0.0   \n",
       "3474                        0.0                           NaN           0.0   \n",
       "\n",
       "                 Purpose        Term  Current Loan Amount  \\\n",
       "4864  debt consolidation   Long Term             535546.0   \n",
       "7199  debt consolidation   Long Term             262174.0   \n",
       "4716  debt consolidation   Long Term             614614.0   \n",
       "2560               other  Short Term             131252.0   \n",
       "3474  debt consolidation  Short Term           99999999.0   \n",
       "\n",
       "      Current Credit Balance  Monthly Debt  Credit Score  Credit Default  \n",
       "4864                622440.0       41988.0         663.0               0  \n",
       "7199                113544.0       13820.0         688.0               1  \n",
       "4716                416518.0       16541.0           NaN               1  \n",
       "2560                 62054.0       10822.0         749.0               0  \n",
       "3474                113639.0       10775.0         727.0               0  "
      ]
     },
     "execution_count": 13,
     "metadata": {},
     "output_type": "execute_result"
    }
   ],
   "source": [
    "train.head()"
   ]
  },
  {
   "cell_type": "code",
   "execution_count": 14,
   "metadata": {},
   "outputs": [
    {
     "data": {
      "text/plain": [
       "0    4046\n",
       "1    1579\n",
       "Name: Credit Default, dtype: int64"
      ]
     },
     "execution_count": 14,
     "metadata": {},
     "output_type": "execute_result"
    }
   ],
   "source": [
    "train['Credit Default'].value_counts()"
   ]
  },
  {
   "cell_type": "code",
   "execution_count": 15,
   "metadata": {},
   "outputs": [
    {
     "data": {
      "text/plain": [
       "2.5623812539582014"
      ]
     },
     "execution_count": 15,
     "metadata": {},
     "output_type": "execute_result"
    }
   ],
   "source": [
    "train['Credit Default'].value_counts()[0] / train['Credit Default'].value_counts()[1]"
   ]
  },
  {
   "cell_type": "code",
   "execution_count": 16,
   "metadata": {
    "scrolled": false
   },
   "outputs": [
    {
     "name": "stdout",
     "output_type": "stream",
     "text": [
      "Home Ownership \n",
      "\n",
      "\n",
      "Home Mortgage    2755\n",
      "Rent             2365\n",
      "Own Home          495\n",
      "Have Mortgage      10\n",
      "Name: Home Ownership, dtype: int64\n",
      "\n",
      "**************************************************************************************************** \n",
      "\n",
      "Years in current job \n",
      "\n",
      "\n",
      "10+ years    1750\n",
      "2 years       522\n",
      "3 years       461\n",
      "< 1 year      425\n",
      "5 years       397\n",
      "1 year        380\n",
      "6 years       341\n",
      "4 years       332\n",
      "7 years       282\n",
      "8 years       261\n",
      "9 years       197\n",
      "Name: Years in current job, dtype: int64\n",
      "\n",
      "**************************************************************************************************** \n",
      "\n",
      "Purpose \n",
      "\n",
      "\n",
      "debt consolidation      4470\n",
      "other                    501\n",
      "home improvements        308\n",
      "business loan             94\n",
      "buy a car                 73\n",
      "medical bills             51\n",
      "major purchase            26\n",
      "buy house                 25\n",
      "take a trip               25\n",
      "small business            20\n",
      "wedding                   11\n",
      "educational expenses       8\n",
      "moving                     7\n",
      "vacation                   5\n",
      "renewable energy           1\n",
      "Name: Purpose, dtype: int64\n",
      "\n",
      "**************************************************************************************************** \n",
      "\n",
      "Term \n",
      "\n",
      "\n",
      "Short Term    4166\n",
      "Long Term     1459\n",
      "Name: Term, dtype: int64\n",
      "\n",
      "**************************************************************************************************** \n",
      "\n"
     ]
    }
   ],
   "source": [
    "for cat_colname in train.select_dtypes(include='object'):\n",
    "    print(cat_colname, '\\n\\n')\n",
    "    print(train[cat_colname].value_counts())\n",
    "    print('\\n' + '*'*100, '\\n')"
   ]
  },
  {
   "cell_type": "markdown",
   "metadata": {},
   "source": [
    "Признак **Term** имеет всего 2 значения. Можно вместо него ввести признак **Short Term**."
   ]
  },
  {
   "cell_type": "markdown",
   "metadata": {},
   "source": [
    " "
   ]
  },
  {
   "cell_type": "code",
   "execution_count": 17,
   "metadata": {},
   "outputs": [],
   "source": [
    "not_obj_col = train.select_dtypes(exclude='object').columns"
   ]
  },
  {
   "cell_type": "code",
   "execution_count": 18,
   "metadata": {
    "scrolled": true
   },
   "outputs": [
    {
     "name": "stdout",
     "output_type": "stream",
     "text": [
      "Annual Income\n"
     ]
    },
    {
     "data": {
      "image/png": "[encoded data removed]",
      "text/plain": [
       "<Figure size 432x288 with 1 Axes>"
      ]
     },
     "metadata": {
      "needs_background": "light"
     },
     "output_type": "display_data"
    },
    {
     "name": "stdout",
     "output_type": "stream",
     "text": [
      "Tax Liens\n"
     ]
    },
    {
     "data": {
      "image/png": "[encoded data removed]",
      "text/plain": [
       "<Figure size 432x288 with 1 Axes>"
      ]
     },
     "metadata": {
      "needs_background": "light"
     },
     "output_type": "display_data"
    },
    {
     "name": "stdout",
     "output_type": "stream",
     "text": [
      "Number of Open Accounts\n"
     ]
    },
    {
     "data": {
      "image/png": "[encoded data removed]",
      "text/plain": [
       "<Figure size 432x288 with 1 Axes>"
      ]
     },
     "metadata": {
      "needs_background": "light"
     },
     "output_type": "display_data"
    },
    {
     "name": "stdout",
     "output_type": "stream",
     "text": [
      "Years of Credit History\n"
     ]
    },
    {
     "data": {
      "image/png": "[encoded data removed]",
      "text/plain": [
       "<Figure size 432x288 with 1 Axes>"
      ]
     },
     "metadata": {
      "needs_background": "light"
     },
     "output_type": "display_data"
    },
    {
     "name": "stdout",
     "output_type": "stream",
     "text": [
      "Maximum Open Credit\n"
     ]
    },
    {
     "data": {
      "image/png": "[encoded data removed]",
      "text/plain": [
       "<Figure size 432x288 with 1 Axes>"
      ]
     },
     "metadata": {
      "needs_background": "light"
     },
     "output_type": "display_data"
    },
    {
     "name": "stdout",
     "output_type": "stream",
     "text": [
      "Number of Credit Problems\n"
     ]
    },
    {
     "data": {
      "image/png": "[encoded data removed]",
      "text/plain": [
       "<Figure size 432x288 with 1 Axes>"
      ]
     },
     "metadata": {
      "needs_background": "light"
     },
     "output_type": "display_data"
    },
    {
     "name": "stdout",
     "output_type": "stream",
     "text": [
      "Months since last delinquent\n"
     ]
    },
    {
     "data": {
      "image/png": "[encoded data removed]",
      "text/plain": [
       "<Figure size 432x288 with 1 Axes>"
      ]
     },
     "metadata": {
      "needs_background": "light"
     },
     "output_type": "display_data"
    },
    {
     "name": "stdout",
     "output_type": "stream",
     "text": [
      "Bankruptcies\n"
     ]
    },
    {
     "data": {
      "image/png": "[encoded data removed]",
      "text/plain": [
       "<Figure size 432x288 with 1 Axes>"
      ]
     },
     "metadata": {
      "needs_background": "light"
     },
     "output_type": "display_data"
    },
    {
     "name": "stdout",
     "output_type": "stream",
     "text": [
      "Current Loan Amount\n"
     ]
    },
    {
     "data": {
      "image/png": "[encoded data removed]",
      "text/plain": [
       "<Figure size 432x288 with 1 Axes>"
      ]
     },
     "metadata": {
      "needs_background": "light"
     },
     "output_type": "display_data"
    },
    {
     "name": "stdout",
     "output_type": "stream",
     "text": [
      "Current Credit Balance\n"
     ]
    },
    {
     "data": {
      "image/png": "[encoded data removed]",
      "text/plain": [
       "<Figure size 432x288 with 1 Axes>"
      ]
     },
     "metadata": {
      "needs_background": "light"
     },
     "output_type": "display_data"
    },
    {
     "name": "stdout",
     "output_type": "stream",
     "text": [
      "Monthly Debt\n"
     ]
    },
    {
     "data": {
      "image/png": "[encoded data removed]",
      "text/plain": [
       "<Figure size 432x288 with 1 Axes>"
      ]
     },
     "metadata": {
      "needs_background": "light"
     },
     "output_type": "display_data"
    },
    {
     "name": "stdout",
     "output_type": "stream",
     "text": [
      "Credit Score\n"
     ]
    },
    {
     "data": {
      "image/png": "[encoded data removed]",
      "text/plain": [
       "<Figure size 432x288 with 1 Axes>"
      ]
     },
     "metadata": {
      "needs_background": "light"
     },
     "output_type": "display_data"
    },
    {
     "name": "stdout",
     "output_type": "stream",
     "text": [
      "Credit Default\n"
     ]
    },
    {
     "data": {
      "image/png": "[encoded data removed]",
      "text/plain": [
       "<Figure size 432x288 with 1 Axes>"
      ]
     },
     "metadata": {
      "needs_background": "light"
     },
     "output_type": "display_data"
    }
   ],
   "source": [
    "for colname in not_obj_col:\n",
    "    print(colname)\n",
    "    sns.boxplot(train[colname])\n",
    "    plt.show()"
   ]
  },
  {
   "cell_type": "code",
   "execution_count": 19,
   "metadata": {
    "scrolled": true
   },
   "outputs": [
    {
     "data": {
      "text/html": [
       "<div>\n",
       "<style scoped>\n",
       "    .dataframe tbody tr th:only-of-type {\n",
       "        vertical-align: middle;\n",
       "    }\n",
       "\n",
       "    .dataframe tbody tr th {\n",
       "        vertical-align: top;\n",
       "    }\n",
       "\n",
       "    .dataframe thead th {\n",
       "        text-align: right;\n",
       "    }\n",
       "</style>\n",
       "<table border=\"1\" class=\"dataframe\">\n",
       "  <thead>\n",
       "    <tr style=\"text-align: right;\">\n",
       "      <th></th>\n",
       "      <th>Home Ownership</th>\n",
       "      <th>Annual Income</th>\n",
       "      <th>Years in current job</th>\n",
       "      <th>Tax Liens</th>\n",
       "      <th>Number of Open Accounts</th>\n",
       "      <th>Years of Credit History</th>\n",
       "      <th>Maximum Open Credit</th>\n",
       "      <th>Number of Credit Problems</th>\n",
       "      <th>Months since last delinquent</th>\n",
       "      <th>Bankruptcies</th>\n",
       "      <th>Purpose</th>\n",
       "      <th>Term</th>\n",
       "      <th>Current Loan Amount</th>\n",
       "      <th>Current Credit Balance</th>\n",
       "      <th>Monthly Debt</th>\n",
       "      <th>Credit Score</th>\n",
       "      <th>Credit Default</th>\n",
       "    </tr>\n",
       "  </thead>\n",
       "  <tbody>\n",
       "    <tr>\n",
       "      <th>3063</th>\n",
       "      <td>Rent</td>\n",
       "      <td>464474.0</td>\n",
       "      <td>10+ years</td>\n",
       "      <td>0.0</td>\n",
       "      <td>5.0</td>\n",
       "      <td>14.9</td>\n",
       "      <td>38126.0</td>\n",
       "      <td>0.0</td>\n",
       "      <td>0.0</td>\n",
       "      <td>NaN</td>\n",
       "      <td>other</td>\n",
       "      <td>Short Term</td>\n",
       "      <td>44814.0</td>\n",
       "      <td>18373.0</td>\n",
       "      <td>929.0</td>\n",
       "      <td>7490.0</td>\n",
       "      <td>1</td>\n",
       "    </tr>\n",
       "    <tr>\n",
       "      <th>3401</th>\n",
       "      <td>Rent</td>\n",
       "      <td>326154.0</td>\n",
       "      <td>6 years</td>\n",
       "      <td>0.0</td>\n",
       "      <td>2.0</td>\n",
       "      <td>19.1</td>\n",
       "      <td>0.0</td>\n",
       "      <td>0.0</td>\n",
       "      <td>77.0</td>\n",
       "      <td>NaN</td>\n",
       "      <td>other</td>\n",
       "      <td>Short Term</td>\n",
       "      <td>99999999.0</td>\n",
       "      <td>0.0</td>\n",
       "      <td>1245.0</td>\n",
       "      <td>712.0</td>\n",
       "      <td>0</td>\n",
       "    </tr>\n",
       "    <tr>\n",
       "      <th>7379</th>\n",
       "      <td>Own Home</td>\n",
       "      <td>290415.0</td>\n",
       "      <td>&lt; 1 year</td>\n",
       "      <td>0.0</td>\n",
       "      <td>16.0</td>\n",
       "      <td>12.5</td>\n",
       "      <td>116644.0</td>\n",
       "      <td>0.0</td>\n",
       "      <td>0.0</td>\n",
       "      <td>NaN</td>\n",
       "      <td>small business</td>\n",
       "      <td>Short Term</td>\n",
       "      <td>71170.0</td>\n",
       "      <td>55499.0</td>\n",
       "      <td>2953.0</td>\n",
       "      <td>7160.0</td>\n",
       "      <td>1</td>\n",
       "    </tr>\n",
       "    <tr>\n",
       "      <th>100</th>\n",
       "      <td>Own Home</td>\n",
       "      <td>337079.0</td>\n",
       "      <td>1 year</td>\n",
       "      <td>0.0</td>\n",
       "      <td>9.0</td>\n",
       "      <td>39.6</td>\n",
       "      <td>644204.0</td>\n",
       "      <td>0.0</td>\n",
       "      <td>0.0</td>\n",
       "      <td>NaN</td>\n",
       "      <td>educational expenses</td>\n",
       "      <td>Short Term</td>\n",
       "      <td>99999999.0</td>\n",
       "      <td>224770.0</td>\n",
       "      <td>4326.0</td>\n",
       "      <td>734.0</td>\n",
       "      <td>0</td>\n",
       "    </tr>\n",
       "    <tr>\n",
       "      <th>898</th>\n",
       "      <td>Rent</td>\n",
       "      <td>739005.0</td>\n",
       "      <td>2 years</td>\n",
       "      <td>0.0</td>\n",
       "      <td>20.0</td>\n",
       "      <td>18.3</td>\n",
       "      <td>2177758.0</td>\n",
       "      <td>0.0</td>\n",
       "      <td>0.0</td>\n",
       "      <td>NaN</td>\n",
       "      <td>debt consolidation</td>\n",
       "      <td>Short Term</td>\n",
       "      <td>456808.0</td>\n",
       "      <td>607487.0</td>\n",
       "      <td>9669.0</td>\n",
       "      <td>732.0</td>\n",
       "      <td>1</td>\n",
       "    </tr>\n",
       "  </tbody>\n",
       "</table>\n",
       "</div>"
      ],
      "text/plain": [
       "     Home Ownership  Annual Income Years in current job  Tax Liens  \\\n",
       "3063           Rent       464474.0            10+ years        0.0   \n",
       "3401           Rent       326154.0              6 years        0.0   \n",
       "7379       Own Home       290415.0             < 1 year        0.0   \n",
       "100        Own Home       337079.0               1 year        0.0   \n",
       "898            Rent       739005.0              2 years        0.0   \n",
       "\n",
       "      Number of Open Accounts  Years of Credit History  Maximum Open Credit  \\\n",
       "3063                      5.0                     14.9              38126.0   \n",
       "3401                      2.0                     19.1                  0.0   \n",
       "7379                     16.0                     12.5             116644.0   \n",
       "100                       9.0                     39.6             644204.0   \n",
       "898                      20.0                     18.3            2177758.0   \n",
       "\n",
       "      Number of Credit Problems  Months since last delinquent  Bankruptcies  \\\n",
       "3063                        0.0                           0.0           NaN   \n",
       "3401                        0.0                          77.0           NaN   \n",
       "7379                        0.0                           0.0           NaN   \n",
       "100                         0.0                           0.0           NaN   \n",
       "898                         0.0                           0.0           NaN   \n",
       "\n",
       "                   Purpose        Term  Current Loan Amount  \\\n",
       "3063                 other  Short Term              44814.0   \n",
       "3401                 other  Short Term           99999999.0   \n",
       "7379        small business  Short Term              71170.0   \n",
       "100   educational expenses  Short Term           99999999.0   \n",
       "898     debt consolidation  Short Term             456808.0   \n",
       "\n",
       "      Current Credit Balance  Monthly Debt  Credit Score  Credit Default  \n",
       "3063                 18373.0         929.0        7490.0               1  \n",
       "3401                     0.0        1245.0         712.0               0  \n",
       "7379                 55499.0        2953.0        7160.0               1  \n",
       "100                 224770.0        4326.0         734.0               0  \n",
       "898                 607487.0        9669.0         732.0               1  "
      ]
     },
     "execution_count": 19,
     "metadata": {},
     "output_type": "execute_result"
    }
   ],
   "source": [
    "train[train['Bankruptcies'].isnull()].head()"
   ]
  },
  {
   "cell_type": "markdown",
   "metadata": {},
   "source": [
    "Заменим пропуски медианным значением."
   ]
  },
  {
   "cell_type": "code",
   "execution_count": 20,
   "metadata": {},
   "outputs": [],
   "source": [
    "median_bankruptcies = train['Bankruptcies'].median()"
   ]
  },
  {
   "cell_type": "code",
   "execution_count": 21,
   "metadata": {
    "scrolled": true
   },
   "outputs": [
    {
     "data": {
      "text/html": [
       "<div>\n",
       "<style scoped>\n",
       "    .dataframe tbody tr th:only-of-type {\n",
       "        vertical-align: middle;\n",
       "    }\n",
       "\n",
       "    .dataframe tbody tr th {\n",
       "        vertical-align: top;\n",
       "    }\n",
       "\n",
       "    .dataframe thead th {\n",
       "        text-align: right;\n",
       "    }\n",
       "</style>\n",
       "<table border=\"1\" class=\"dataframe\">\n",
       "  <thead>\n",
       "    <tr style=\"text-align: right;\">\n",
       "      <th></th>\n",
       "      <th>Home Ownership</th>\n",
       "      <th>Annual Income</th>\n",
       "      <th>Years in current job</th>\n",
       "      <th>Tax Liens</th>\n",
       "      <th>Number of Open Accounts</th>\n",
       "      <th>Years of Credit History</th>\n",
       "      <th>Maximum Open Credit</th>\n",
       "      <th>Number of Credit Problems</th>\n",
       "      <th>Months since last delinquent</th>\n",
       "      <th>Bankruptcies</th>\n",
       "      <th>Purpose</th>\n",
       "      <th>Term</th>\n",
       "      <th>Current Loan Amount</th>\n",
       "      <th>Current Credit Balance</th>\n",
       "      <th>Monthly Debt</th>\n",
       "      <th>Credit Score</th>\n",
       "      <th>Credit Default</th>\n",
       "    </tr>\n",
       "  </thead>\n",
       "  <tbody>\n",
       "    <tr>\n",
       "      <th>5774</th>\n",
       "      <td>Home Mortgage</td>\n",
       "      <td>7655480.0</td>\n",
       "      <td>10+ years</td>\n",
       "      <td>0.0</td>\n",
       "      <td>12.0</td>\n",
       "      <td>10.8</td>\n",
       "      <td>1837616.0</td>\n",
       "      <td>0.0</td>\n",
       "      <td>NaN</td>\n",
       "      <td>0.0</td>\n",
       "      <td>debt consolidation</td>\n",
       "      <td>Short Term</td>\n",
       "      <td>443212.0</td>\n",
       "      <td>766536.0</td>\n",
       "      <td>43062.0</td>\n",
       "      <td>735.0</td>\n",
       "      <td>0</td>\n",
       "    </tr>\n",
       "    <tr>\n",
       "      <th>4491</th>\n",
       "      <td>Home Mortgage</td>\n",
       "      <td>8200229.0</td>\n",
       "      <td>2 years</td>\n",
       "      <td>0.0</td>\n",
       "      <td>11.0</td>\n",
       "      <td>16.7</td>\n",
       "      <td>333630.0</td>\n",
       "      <td>0.0</td>\n",
       "      <td>29.0</td>\n",
       "      <td>0.0</td>\n",
       "      <td>debt consolidation</td>\n",
       "      <td>Short Term</td>\n",
       "      <td>117040.0</td>\n",
       "      <td>116128.0</td>\n",
       "      <td>8610.0</td>\n",
       "      <td>7440.0</td>\n",
       "      <td>1</td>\n",
       "    </tr>\n",
       "    <tr>\n",
       "      <th>7089</th>\n",
       "      <td>Rent</td>\n",
       "      <td>5759280.0</td>\n",
       "      <td>7 years</td>\n",
       "      <td>0.0</td>\n",
       "      <td>27.0</td>\n",
       "      <td>27.2</td>\n",
       "      <td>3930212.0</td>\n",
       "      <td>0.0</td>\n",
       "      <td>NaN</td>\n",
       "      <td>0.0</td>\n",
       "      <td>debt consolidation</td>\n",
       "      <td>Short Term</td>\n",
       "      <td>664642.0</td>\n",
       "      <td>967366.0</td>\n",
       "      <td>57593.0</td>\n",
       "      <td>742.0</td>\n",
       "      <td>0</td>\n",
       "    </tr>\n",
       "    <tr>\n",
       "      <th>3446</th>\n",
       "      <td>Home Mortgage</td>\n",
       "      <td>6611810.0</td>\n",
       "      <td>10+ years</td>\n",
       "      <td>0.0</td>\n",
       "      <td>13.0</td>\n",
       "      <td>37.6</td>\n",
       "      <td>1387320.0</td>\n",
       "      <td>0.0</td>\n",
       "      <td>NaN</td>\n",
       "      <td>0.0</td>\n",
       "      <td>debt consolidation</td>\n",
       "      <td>Short Term</td>\n",
       "      <td>99999999.0</td>\n",
       "      <td>788386.0</td>\n",
       "      <td>36475.0</td>\n",
       "      <td>748.0</td>\n",
       "      <td>0</td>\n",
       "    </tr>\n",
       "    <tr>\n",
       "      <th>602</th>\n",
       "      <td>Home Mortgage</td>\n",
       "      <td>5631030.0</td>\n",
       "      <td>1 year</td>\n",
       "      <td>0.0</td>\n",
       "      <td>5.0</td>\n",
       "      <td>17.5</td>\n",
       "      <td>0.0</td>\n",
       "      <td>0.0</td>\n",
       "      <td>NaN</td>\n",
       "      <td>0.0</td>\n",
       "      <td>home improvements</td>\n",
       "      <td>Short Term</td>\n",
       "      <td>99999999.0</td>\n",
       "      <td>60439.0</td>\n",
       "      <td>15485.0</td>\n",
       "      <td>743.0</td>\n",
       "      <td>0</td>\n",
       "    </tr>\n",
       "  </tbody>\n",
       "</table>\n",
       "</div>"
      ],
      "text/plain": [
       "     Home Ownership  Annual Income Years in current job  Tax Liens  \\\n",
       "5774  Home Mortgage      7655480.0            10+ years        0.0   \n",
       "4491  Home Mortgage      8200229.0              2 years        0.0   \n",
       "7089           Rent      5759280.0              7 years        0.0   \n",
       "3446  Home Mortgage      6611810.0            10+ years        0.0   \n",
       "602   Home Mortgage      5631030.0               1 year        0.0   \n",
       "\n",
       "      Number of Open Accounts  Years of Credit History  Maximum Open Credit  \\\n",
       "5774                     12.0                     10.8            1837616.0   \n",
       "4491                     11.0                     16.7             333630.0   \n",
       "7089                     27.0                     27.2            3930212.0   \n",
       "3446                     13.0                     37.6            1387320.0   \n",
       "602                       5.0                     17.5                  0.0   \n",
       "\n",
       "      Number of Credit Problems  Months since last delinquent  Bankruptcies  \\\n",
       "5774                        0.0                           NaN           0.0   \n",
       "4491                        0.0                          29.0           0.0   \n",
       "7089                        0.0                           NaN           0.0   \n",
       "3446                        0.0                           NaN           0.0   \n",
       "602                         0.0                           NaN           0.0   \n",
       "\n",
       "                 Purpose        Term  Current Loan Amount  \\\n",
       "5774  debt consolidation  Short Term             443212.0   \n",
       "4491  debt consolidation  Short Term             117040.0   \n",
       "7089  debt consolidation  Short Term             664642.0   \n",
       "3446  debt consolidation  Short Term           99999999.0   \n",
       "602    home improvements  Short Term           99999999.0   \n",
       "\n",
       "      Current Credit Balance  Monthly Debt  Credit Score  Credit Default  \n",
       "5774                766536.0       43062.0         735.0               0  \n",
       "4491                116128.0        8610.0        7440.0               1  \n",
       "7089                967366.0       57593.0         742.0               0  \n",
       "3446                788386.0       36475.0         748.0               0  \n",
       "602                  60439.0       15485.0         743.0               0  "
      ]
     },
     "execution_count": 21,
     "metadata": {},
     "output_type": "execute_result"
    }
   ],
   "source": [
    "train.loc[train['Annual Income'] > 5*10**6, :].head()"
   ]
  },
  {
   "cell_type": "markdown",
   "metadata": {},
   "source": [
    "Значение **'Annual Income' > 5*10^6** явно является выбросом. Заменим его на медианное значение."
   ]
  },
  {
   "cell_type": "code",
   "execution_count": 22,
   "metadata": {},
   "outputs": [],
   "source": [
    "median_annual_income = train['Annual Income'].median()"
   ]
  },
  {
   "cell_type": "markdown",
   "metadata": {},
   "source": [
    " "
   ]
  },
  {
   "cell_type": "code",
   "execution_count": 23,
   "metadata": {
    "scrolled": true
   },
   "outputs": [
    {
     "data": {
      "text/html": [
       "<div>\n",
       "<style scoped>\n",
       "    .dataframe tbody tr th:only-of-type {\n",
       "        vertical-align: middle;\n",
       "    }\n",
       "\n",
       "    .dataframe tbody tr th {\n",
       "        vertical-align: top;\n",
       "    }\n",
       "\n",
       "    .dataframe thead th {\n",
       "        text-align: right;\n",
       "    }\n",
       "</style>\n",
       "<table border=\"1\" class=\"dataframe\">\n",
       "  <thead>\n",
       "    <tr style=\"text-align: right;\">\n",
       "      <th></th>\n",
       "      <th>Home Ownership</th>\n",
       "      <th>Annual Income</th>\n",
       "      <th>Years in current job</th>\n",
       "      <th>Tax Liens</th>\n",
       "      <th>Number of Open Accounts</th>\n",
       "      <th>Years of Credit History</th>\n",
       "      <th>Maximum Open Credit</th>\n",
       "      <th>Number of Credit Problems</th>\n",
       "      <th>Months since last delinquent</th>\n",
       "      <th>Bankruptcies</th>\n",
       "      <th>Purpose</th>\n",
       "      <th>Term</th>\n",
       "      <th>Current Loan Amount</th>\n",
       "      <th>Current Credit Balance</th>\n",
       "      <th>Monthly Debt</th>\n",
       "      <th>Credit Score</th>\n",
       "      <th>Credit Default</th>\n",
       "    </tr>\n",
       "  </thead>\n",
       "  <tbody>\n",
       "    <tr>\n",
       "      <th>2689</th>\n",
       "      <td>Rent</td>\n",
       "      <td>NaN</td>\n",
       "      <td>10+ years</td>\n",
       "      <td>0.0</td>\n",
       "      <td>32.0</td>\n",
       "      <td>36.4</td>\n",
       "      <td>2020656.0</td>\n",
       "      <td>0.0</td>\n",
       "      <td>NaN</td>\n",
       "      <td>0.0</td>\n",
       "      <td>other</td>\n",
       "      <td>Short Term</td>\n",
       "      <td>105600.0</td>\n",
       "      <td>57589.0</td>\n",
       "      <td>30297.0</td>\n",
       "      <td>NaN</td>\n",
       "      <td>0</td>\n",
       "    </tr>\n",
       "    <tr>\n",
       "      <th>305</th>\n",
       "      <td>Rent</td>\n",
       "      <td>NaN</td>\n",
       "      <td>&lt; 1 year</td>\n",
       "      <td>0.0</td>\n",
       "      <td>32.0</td>\n",
       "      <td>9.0</td>\n",
       "      <td>96668.0</td>\n",
       "      <td>0.0</td>\n",
       "      <td>75.0</td>\n",
       "      <td>0.0</td>\n",
       "      <td>other</td>\n",
       "      <td>Short Term</td>\n",
       "      <td>75262.0</td>\n",
       "      <td>47424.0</td>\n",
       "      <td>1870.0</td>\n",
       "      <td>NaN</td>\n",
       "      <td>0</td>\n",
       "    </tr>\n",
       "    <tr>\n",
       "      <th>6868</th>\n",
       "      <td>Rent</td>\n",
       "      <td>2268011.0</td>\n",
       "      <td>6 years</td>\n",
       "      <td>1.0</td>\n",
       "      <td>37.0</td>\n",
       "      <td>15.1</td>\n",
       "      <td>2733544.0</td>\n",
       "      <td>1.0</td>\n",
       "      <td>NaN</td>\n",
       "      <td>0.0</td>\n",
       "      <td>debt consolidation</td>\n",
       "      <td>Long Term</td>\n",
       "      <td>247170.0</td>\n",
       "      <td>535895.0</td>\n",
       "      <td>37611.0</td>\n",
       "      <td>731.0</td>\n",
       "      <td>0</td>\n",
       "    </tr>\n",
       "    <tr>\n",
       "      <th>3874</th>\n",
       "      <td>Home Mortgage</td>\n",
       "      <td>1572858.0</td>\n",
       "      <td>10+ years</td>\n",
       "      <td>0.0</td>\n",
       "      <td>31.0</td>\n",
       "      <td>19.9</td>\n",
       "      <td>1634864.0</td>\n",
       "      <td>0.0</td>\n",
       "      <td>66.0</td>\n",
       "      <td>0.0</td>\n",
       "      <td>debt consolidation</td>\n",
       "      <td>Short Term</td>\n",
       "      <td>99999999.0</td>\n",
       "      <td>652308.0</td>\n",
       "      <td>15204.0</td>\n",
       "      <td>742.0</td>\n",
       "      <td>0</td>\n",
       "    </tr>\n",
       "    <tr>\n",
       "      <th>6842</th>\n",
       "      <td>Rent</td>\n",
       "      <td>691087.0</td>\n",
       "      <td>1 year</td>\n",
       "      <td>0.0</td>\n",
       "      <td>34.0</td>\n",
       "      <td>14.8</td>\n",
       "      <td>774202.0</td>\n",
       "      <td>0.0</td>\n",
       "      <td>NaN</td>\n",
       "      <td>0.0</td>\n",
       "      <td>debt consolidation</td>\n",
       "      <td>Short Term</td>\n",
       "      <td>239470.0</td>\n",
       "      <td>363071.0</td>\n",
       "      <td>16817.0</td>\n",
       "      <td>694.0</td>\n",
       "      <td>1</td>\n",
       "    </tr>\n",
       "  </tbody>\n",
       "</table>\n",
       "</div>"
      ],
      "text/plain": [
       "     Home Ownership  Annual Income Years in current job  Tax Liens  \\\n",
       "2689           Rent            NaN            10+ years        0.0   \n",
       "305            Rent            NaN             < 1 year        0.0   \n",
       "6868           Rent      2268011.0              6 years        1.0   \n",
       "3874  Home Mortgage      1572858.0            10+ years        0.0   \n",
       "6842           Rent       691087.0               1 year        0.0   \n",
       "\n",
       "      Number of Open Accounts  Years of Credit History  Maximum Open Credit  \\\n",
       "2689                     32.0                     36.4            2020656.0   \n",
       "305                      32.0                      9.0              96668.0   \n",
       "6868                     37.0                     15.1            2733544.0   \n",
       "3874                     31.0                     19.9            1634864.0   \n",
       "6842                     34.0                     14.8             774202.0   \n",
       "\n",
       "      Number of Credit Problems  Months since last delinquent  Bankruptcies  \\\n",
       "2689                        0.0                           NaN           0.0   \n",
       "305                         0.0                          75.0           0.0   \n",
       "6868                        1.0                           NaN           0.0   \n",
       "3874                        0.0                          66.0           0.0   \n",
       "6842                        0.0                           NaN           0.0   \n",
       "\n",
       "                 Purpose        Term  Current Loan Amount  \\\n",
       "2689               other  Short Term             105600.0   \n",
       "305                other  Short Term              75262.0   \n",
       "6868  debt consolidation   Long Term             247170.0   \n",
       "3874  debt consolidation  Short Term           99999999.0   \n",
       "6842  debt consolidation  Short Term             239470.0   \n",
       "\n",
       "      Current Credit Balance  Monthly Debt  Credit Score  Credit Default  \n",
       "2689                 57589.0       30297.0           NaN               0  \n",
       "305                  47424.0        1870.0           NaN               0  \n",
       "6868                535895.0       37611.0         731.0               0  \n",
       "3874                652308.0       15204.0         742.0               0  \n",
       "6842                363071.0       16817.0         694.0               1  "
      ]
     },
     "execution_count": 23,
     "metadata": {},
     "output_type": "execute_result"
    }
   ],
   "source": [
    "train.loc[train['Number of Open Accounts'] > 30, :].head()"
   ]
  },
  {
   "cell_type": "markdown",
   "metadata": {},
   "source": [
    "Значение **'Number of Open Accounts' > 30** явно является выбросом. Заменим его на медианное значение."
   ]
  },
  {
   "cell_type": "code",
   "execution_count": 24,
   "metadata": {},
   "outputs": [],
   "source": [
    "median_accounts = train['Number of Open Accounts'].median()"
   ]
  },
  {
   "cell_type": "markdown",
   "metadata": {},
   "source": [
    " "
   ]
  },
  {
   "cell_type": "code",
   "execution_count": 25,
   "metadata": {
    "scrolled": true
   },
   "outputs": [
    {
     "data": {
      "text/html": [
       "<div>\n",
       "<style scoped>\n",
       "    .dataframe tbody tr th:only-of-type {\n",
       "        vertical-align: middle;\n",
       "    }\n",
       "\n",
       "    .dataframe tbody tr th {\n",
       "        vertical-align: top;\n",
       "    }\n",
       "\n",
       "    .dataframe thead th {\n",
       "        text-align: right;\n",
       "    }\n",
       "</style>\n",
       "<table border=\"1\" class=\"dataframe\">\n",
       "  <thead>\n",
       "    <tr style=\"text-align: right;\">\n",
       "      <th></th>\n",
       "      <th>Home Ownership</th>\n",
       "      <th>Annual Income</th>\n",
       "      <th>Years in current job</th>\n",
       "      <th>Tax Liens</th>\n",
       "      <th>Number of Open Accounts</th>\n",
       "      <th>Years of Credit History</th>\n",
       "      <th>Maximum Open Credit</th>\n",
       "      <th>Number of Credit Problems</th>\n",
       "      <th>Months since last delinquent</th>\n",
       "      <th>Bankruptcies</th>\n",
       "      <th>Purpose</th>\n",
       "      <th>Term</th>\n",
       "      <th>Current Loan Amount</th>\n",
       "      <th>Current Credit Balance</th>\n",
       "      <th>Monthly Debt</th>\n",
       "      <th>Credit Score</th>\n",
       "      <th>Credit Default</th>\n",
       "    </tr>\n",
       "  </thead>\n",
       "  <tbody>\n",
       "    <tr>\n",
       "      <th>4716</th>\n",
       "      <td>Rent</td>\n",
       "      <td>NaN</td>\n",
       "      <td>NaN</td>\n",
       "      <td>0.0</td>\n",
       "      <td>5.0</td>\n",
       "      <td>51.5</td>\n",
       "      <td>485672.0</td>\n",
       "      <td>0.0</td>\n",
       "      <td>14.0</td>\n",
       "      <td>0.0</td>\n",
       "      <td>debt consolidation</td>\n",
       "      <td>Long Term</td>\n",
       "      <td>614614.0</td>\n",
       "      <td>416518.0</td>\n",
       "      <td>16541.0</td>\n",
       "      <td>NaN</td>\n",
       "      <td>1</td>\n",
       "    </tr>\n",
       "    <tr>\n",
       "      <th>5636</th>\n",
       "      <td>Home Mortgage</td>\n",
       "      <td>2331528.0</td>\n",
       "      <td>4 years</td>\n",
       "      <td>0.0</td>\n",
       "      <td>15.0</td>\n",
       "      <td>49.1</td>\n",
       "      <td>710050.0</td>\n",
       "      <td>0.0</td>\n",
       "      <td>NaN</td>\n",
       "      <td>0.0</td>\n",
       "      <td>home improvements</td>\n",
       "      <td>Short Term</td>\n",
       "      <td>562430.0</td>\n",
       "      <td>193173.0</td>\n",
       "      <td>26813.0</td>\n",
       "      <td>749.0</td>\n",
       "      <td>0</td>\n",
       "    </tr>\n",
       "    <tr>\n",
       "      <th>6241</th>\n",
       "      <td>Home Mortgage</td>\n",
       "      <td>NaN</td>\n",
       "      <td>10+ years</td>\n",
       "      <td>0.0</td>\n",
       "      <td>11.0</td>\n",
       "      <td>46.5</td>\n",
       "      <td>934274.0</td>\n",
       "      <td>0.0</td>\n",
       "      <td>NaN</td>\n",
       "      <td>0.0</td>\n",
       "      <td>debt consolidation</td>\n",
       "      <td>Long Term</td>\n",
       "      <td>703076.0</td>\n",
       "      <td>585789.0</td>\n",
       "      <td>19108.0</td>\n",
       "      <td>NaN</td>\n",
       "      <td>0</td>\n",
       "    </tr>\n",
       "    <tr>\n",
       "      <th>476</th>\n",
       "      <td>Home Mortgage</td>\n",
       "      <td>1076768.0</td>\n",
       "      <td>NaN</td>\n",
       "      <td>0.0</td>\n",
       "      <td>14.0</td>\n",
       "      <td>57.7</td>\n",
       "      <td>432124.0</td>\n",
       "      <td>0.0</td>\n",
       "      <td>24.0</td>\n",
       "      <td>0.0</td>\n",
       "      <td>debt consolidation</td>\n",
       "      <td>Long Term</td>\n",
       "      <td>558360.0</td>\n",
       "      <td>186219.0</td>\n",
       "      <td>13818.0</td>\n",
       "      <td>667.0</td>\n",
       "      <td>1</td>\n",
       "    </tr>\n",
       "    <tr>\n",
       "      <th>3165</th>\n",
       "      <td>Own Home</td>\n",
       "      <td>2231759.0</td>\n",
       "      <td>10+ years</td>\n",
       "      <td>0.0</td>\n",
       "      <td>22.0</td>\n",
       "      <td>46.1</td>\n",
       "      <td>1083192.0</td>\n",
       "      <td>0.0</td>\n",
       "      <td>34.0</td>\n",
       "      <td>0.0</td>\n",
       "      <td>debt consolidation</td>\n",
       "      <td>Short Term</td>\n",
       "      <td>786478.0</td>\n",
       "      <td>721240.0</td>\n",
       "      <td>40544.0</td>\n",
       "      <td>680.0</td>\n",
       "      <td>0</td>\n",
       "    </tr>\n",
       "  </tbody>\n",
       "</table>\n",
       "</div>"
      ],
      "text/plain": [
       "     Home Ownership  Annual Income Years in current job  Tax Liens  \\\n",
       "4716           Rent            NaN                  NaN        0.0   \n",
       "5636  Home Mortgage      2331528.0              4 years        0.0   \n",
       "6241  Home Mortgage            NaN            10+ years        0.0   \n",
       "476   Home Mortgage      1076768.0                  NaN        0.0   \n",
       "3165       Own Home      2231759.0            10+ years        0.0   \n",
       "\n",
       "      Number of Open Accounts  Years of Credit History  Maximum Open Credit  \\\n",
       "4716                      5.0                     51.5             485672.0   \n",
       "5636                     15.0                     49.1             710050.0   \n",
       "6241                     11.0                     46.5             934274.0   \n",
       "476                      14.0                     57.7             432124.0   \n",
       "3165                     22.0                     46.1            1083192.0   \n",
       "\n",
       "      Number of Credit Problems  Months since last delinquent  Bankruptcies  \\\n",
       "4716                        0.0                          14.0           0.0   \n",
       "5636                        0.0                           NaN           0.0   \n",
       "6241                        0.0                           NaN           0.0   \n",
       "476                         0.0                          24.0           0.0   \n",
       "3165                        0.0                          34.0           0.0   \n",
       "\n",
       "                 Purpose        Term  Current Loan Amount  \\\n",
       "4716  debt consolidation   Long Term             614614.0   \n",
       "5636   home improvements  Short Term             562430.0   \n",
       "6241  debt consolidation   Long Term             703076.0   \n",
       "476   debt consolidation   Long Term             558360.0   \n",
       "3165  debt consolidation  Short Term             786478.0   \n",
       "\n",
       "      Current Credit Balance  Monthly Debt  Credit Score  Credit Default  \n",
       "4716                416518.0       16541.0           NaN               1  \n",
       "5636                193173.0       26813.0         749.0               0  \n",
       "6241                585789.0       19108.0           NaN               0  \n",
       "476                 186219.0       13818.0         667.0               1  \n",
       "3165                721240.0       40544.0         680.0               0  "
      ]
     },
     "execution_count": 25,
     "metadata": {},
     "output_type": "execute_result"
    }
   ],
   "source": [
    "train.loc[train['Years of Credit History'] > 45, :].head()"
   ]
  },
  {
   "cell_type": "markdown",
   "metadata": {},
   "source": [
    "Значение **'Years of Credit History' > 45** явно является выбросом. Заменим его на медианное значение."
   ]
  },
  {
   "cell_type": "code",
   "execution_count": 26,
   "metadata": {},
   "outputs": [],
   "source": [
    "median_years_history = train['Years of Credit History'].median()"
   ]
  },
  {
   "cell_type": "markdown",
   "metadata": {},
   "source": [
    " "
   ]
  },
  {
   "cell_type": "code",
   "execution_count": 27,
   "metadata": {
    "scrolled": true
   },
   "outputs": [
    {
     "data": {
      "text/html": [
       "<div>\n",
       "<style scoped>\n",
       "    .dataframe tbody tr th:only-of-type {\n",
       "        vertical-align: middle;\n",
       "    }\n",
       "\n",
       "    .dataframe tbody tr th {\n",
       "        vertical-align: top;\n",
       "    }\n",
       "\n",
       "    .dataframe thead th {\n",
       "        text-align: right;\n",
       "    }\n",
       "</style>\n",
       "<table border=\"1\" class=\"dataframe\">\n",
       "  <thead>\n",
       "    <tr style=\"text-align: right;\">\n",
       "      <th></th>\n",
       "      <th>Home Ownership</th>\n",
       "      <th>Annual Income</th>\n",
       "      <th>Years in current job</th>\n",
       "      <th>Tax Liens</th>\n",
       "      <th>Number of Open Accounts</th>\n",
       "      <th>Years of Credit History</th>\n",
       "      <th>Maximum Open Credit</th>\n",
       "      <th>Number of Credit Problems</th>\n",
       "      <th>Months since last delinquent</th>\n",
       "      <th>Bankruptcies</th>\n",
       "      <th>Purpose</th>\n",
       "      <th>Term</th>\n",
       "      <th>Current Loan Amount</th>\n",
       "      <th>Current Credit Balance</th>\n",
       "      <th>Monthly Debt</th>\n",
       "      <th>Credit Score</th>\n",
       "      <th>Credit Default</th>\n",
       "    </tr>\n",
       "  </thead>\n",
       "  <tbody>\n",
       "    <tr>\n",
       "      <th>4840</th>\n",
       "      <td>Home Mortgage</td>\n",
       "      <td>1687599.0</td>\n",
       "      <td>5 years</td>\n",
       "      <td>0.0</td>\n",
       "      <td>17.0</td>\n",
       "      <td>17.1</td>\n",
       "      <td>10201598.0</td>\n",
       "      <td>0.0</td>\n",
       "      <td>21.0</td>\n",
       "      <td>0.0</td>\n",
       "      <td>debt consolidation</td>\n",
       "      <td>Short Term</td>\n",
       "      <td>99999999.0</td>\n",
       "      <td>2784108.0</td>\n",
       "      <td>26298.0</td>\n",
       "      <td>735.0</td>\n",
       "      <td>0</td>\n",
       "    </tr>\n",
       "    <tr>\n",
       "      <th>2617</th>\n",
       "      <td>Home Mortgage</td>\n",
       "      <td>3217802.0</td>\n",
       "      <td>10+ years</td>\n",
       "      <td>0.0</td>\n",
       "      <td>12.0</td>\n",
       "      <td>35.5</td>\n",
       "      <td>265512874.0</td>\n",
       "      <td>0.0</td>\n",
       "      <td>NaN</td>\n",
       "      <td>0.0</td>\n",
       "      <td>other</td>\n",
       "      <td>Short Term</td>\n",
       "      <td>50116.0</td>\n",
       "      <td>1834450.0</td>\n",
       "      <td>20272.0</td>\n",
       "      <td>750.0</td>\n",
       "      <td>0</td>\n",
       "    </tr>\n",
       "    <tr>\n",
       "      <th>4745</th>\n",
       "      <td>Own Home</td>\n",
       "      <td>6029954.0</td>\n",
       "      <td>4 years</td>\n",
       "      <td>0.0</td>\n",
       "      <td>30.0</td>\n",
       "      <td>17.5</td>\n",
       "      <td>11603856.0</td>\n",
       "      <td>0.0</td>\n",
       "      <td>NaN</td>\n",
       "      <td>0.0</td>\n",
       "      <td>debt consolidation</td>\n",
       "      <td>Short Term</td>\n",
       "      <td>753588.0</td>\n",
       "      <td>4720132.0</td>\n",
       "      <td>136679.0</td>\n",
       "      <td>745.0</td>\n",
       "      <td>0</td>\n",
       "    </tr>\n",
       "    <tr>\n",
       "      <th>44</th>\n",
       "      <td>Have Mortgage</td>\n",
       "      <td>1334256.0</td>\n",
       "      <td>10+ years</td>\n",
       "      <td>0.0</td>\n",
       "      <td>17.0</td>\n",
       "      <td>15.4</td>\n",
       "      <td>380052288.0</td>\n",
       "      <td>1.0</td>\n",
       "      <td>35.0</td>\n",
       "      <td>0.0</td>\n",
       "      <td>take a trip</td>\n",
       "      <td>Short Term</td>\n",
       "      <td>33110.0</td>\n",
       "      <td>656450.0</td>\n",
       "      <td>34357.0</td>\n",
       "      <td>729.0</td>\n",
       "      <td>0</td>\n",
       "    </tr>\n",
       "    <tr>\n",
       "      <th>5523</th>\n",
       "      <td>Home Mortgage</td>\n",
       "      <td>1520304.0</td>\n",
       "      <td>10+ years</td>\n",
       "      <td>0.0</td>\n",
       "      <td>21.0</td>\n",
       "      <td>35.5</td>\n",
       "      <td>21372428.0</td>\n",
       "      <td>0.0</td>\n",
       "      <td>0.0</td>\n",
       "      <td>0.0</td>\n",
       "      <td>other</td>\n",
       "      <td>Long Term</td>\n",
       "      <td>99999999.0</td>\n",
       "      <td>1975012.0</td>\n",
       "      <td>12555.0</td>\n",
       "      <td>728.0</td>\n",
       "      <td>0</td>\n",
       "    </tr>\n",
       "  </tbody>\n",
       "</table>\n",
       "</div>"
      ],
      "text/plain": [
       "     Home Ownership  Annual Income Years in current job  Tax Liens  \\\n",
       "4840  Home Mortgage      1687599.0              5 years        0.0   \n",
       "2617  Home Mortgage      3217802.0            10+ years        0.0   \n",
       "4745       Own Home      6029954.0              4 years        0.0   \n",
       "44    Have Mortgage      1334256.0            10+ years        0.0   \n",
       "5523  Home Mortgage      1520304.0            10+ years        0.0   \n",
       "\n",
       "      Number of Open Accounts  Years of Credit History  Maximum Open Credit  \\\n",
       "4840                     17.0                     17.1           10201598.0   \n",
       "2617                     12.0                     35.5          265512874.0   \n",
       "4745                     30.0                     17.5           11603856.0   \n",
       "44                       17.0                     15.4          380052288.0   \n",
       "5523                     21.0                     35.5           21372428.0   \n",
       "\n",
       "      Number of Credit Problems  Months since last delinquent  Bankruptcies  \\\n",
       "4840                        0.0                          21.0           0.0   \n",
       "2617                        0.0                           NaN           0.0   \n",
       "4745                        0.0                           NaN           0.0   \n",
       "44                          1.0                          35.0           0.0   \n",
       "5523                        0.0                           0.0           0.0   \n",
       "\n",
       "                 Purpose        Term  Current Loan Amount  \\\n",
       "4840  debt consolidation  Short Term           99999999.0   \n",
       "2617               other  Short Term              50116.0   \n",
       "4745  debt consolidation  Short Term             753588.0   \n",
       "44           take a trip  Short Term              33110.0   \n",
       "5523               other   Long Term           99999999.0   \n",
       "\n",
       "      Current Credit Balance  Monthly Debt  Credit Score  Credit Default  \n",
       "4840               2784108.0       26298.0         735.0               0  \n",
       "2617               1834450.0       20272.0         750.0               0  \n",
       "4745               4720132.0      136679.0         745.0               0  \n",
       "44                  656450.0       34357.0         729.0               0  \n",
       "5523               1975012.0       12555.0         728.0               0  "
      ]
     },
     "execution_count": 27,
     "metadata": {},
     "output_type": "execute_result"
    }
   ],
   "source": [
    "train.loc[train['Maximum Open Credit'] > 10**7, :].head()"
   ]
  },
  {
   "cell_type": "markdown",
   "metadata": {},
   "source": [
    "Значение **'Maximum Open Credit' > 2*10^7** явно является выбросом. Заменим его на медианное значение."
   ]
  },
  {
   "cell_type": "code",
   "execution_count": 28,
   "metadata": {},
   "outputs": [],
   "source": [
    "median_max_credit = train['Maximum Open Credit'].median()"
   ]
  },
  {
   "cell_type": "markdown",
   "metadata": {},
   "source": [
    " "
   ]
  },
  {
   "cell_type": "code",
   "execution_count": 29,
   "metadata": {
    "scrolled": true
   },
   "outputs": [
    {
     "data": {
      "text/html": [
       "<div>\n",
       "<style scoped>\n",
       "    .dataframe tbody tr th:only-of-type {\n",
       "        vertical-align: middle;\n",
       "    }\n",
       "\n",
       "    .dataframe tbody tr th {\n",
       "        vertical-align: top;\n",
       "    }\n",
       "\n",
       "    .dataframe thead th {\n",
       "        text-align: right;\n",
       "    }\n",
       "</style>\n",
       "<table border=\"1\" class=\"dataframe\">\n",
       "  <thead>\n",
       "    <tr style=\"text-align: right;\">\n",
       "      <th></th>\n",
       "      <th>Home Ownership</th>\n",
       "      <th>Annual Income</th>\n",
       "      <th>Years in current job</th>\n",
       "      <th>Tax Liens</th>\n",
       "      <th>Number of Open Accounts</th>\n",
       "      <th>Years of Credit History</th>\n",
       "      <th>Maximum Open Credit</th>\n",
       "      <th>Number of Credit Problems</th>\n",
       "      <th>Months since last delinquent</th>\n",
       "      <th>Bankruptcies</th>\n",
       "      <th>Purpose</th>\n",
       "      <th>Term</th>\n",
       "      <th>Current Loan Amount</th>\n",
       "      <th>Current Credit Balance</th>\n",
       "      <th>Monthly Debt</th>\n",
       "      <th>Credit Score</th>\n",
       "      <th>Credit Default</th>\n",
       "    </tr>\n",
       "  </thead>\n",
       "  <tbody>\n",
       "    <tr>\n",
       "      <th>4191</th>\n",
       "      <td>Home Mortgage</td>\n",
       "      <td>3009201.0</td>\n",
       "      <td>6 years</td>\n",
       "      <td>0.0</td>\n",
       "      <td>10.0</td>\n",
       "      <td>20.8</td>\n",
       "      <td>773322.0</td>\n",
       "      <td>0.0</td>\n",
       "      <td>118.0</td>\n",
       "      <td>0.0</td>\n",
       "      <td>debt consolidation</td>\n",
       "      <td>Short Term</td>\n",
       "      <td>449592.0</td>\n",
       "      <td>299877.0</td>\n",
       "      <td>15297.0</td>\n",
       "      <td>738.0</td>\n",
       "      <td>0</td>\n",
       "    </tr>\n",
       "  </tbody>\n",
       "</table>\n",
       "</div>"
      ],
      "text/plain": [
       "     Home Ownership  Annual Income Years in current job  Tax Liens  \\\n",
       "4191  Home Mortgage      3009201.0              6 years        0.0   \n",
       "\n",
       "      Number of Open Accounts  Years of Credit History  Maximum Open Credit  \\\n",
       "4191                     10.0                     20.8             773322.0   \n",
       "\n",
       "      Number of Credit Problems  Months since last delinquent  Bankruptcies  \\\n",
       "4191                        0.0                         118.0           0.0   \n",
       "\n",
       "                 Purpose        Term  Current Loan Amount  \\\n",
       "4191  debt consolidation  Short Term             449592.0   \n",
       "\n",
       "      Current Credit Balance  Monthly Debt  Credit Score  Credit Default  \n",
       "4191                299877.0       15297.0         738.0               0  "
      ]
     },
     "execution_count": 29,
     "metadata": {},
     "output_type": "execute_result"
    }
   ],
   "source": [
    "train.loc[train['Months since last delinquent'] > 100, :].head()"
   ]
  },
  {
   "cell_type": "markdown",
   "metadata": {},
   "source": [
    "Значение **'Months since last delinquent' > 100** явно является выбросом. Заменим его на медианное значение."
   ]
  },
  {
   "cell_type": "code",
   "execution_count": 30,
   "metadata": {},
   "outputs": [],
   "source": [
    "median_months_delinquent = train['Months since last delinquent'].median()"
   ]
  },
  {
   "cell_type": "markdown",
   "metadata": {},
   "source": [
    " "
   ]
  },
  {
   "cell_type": "code",
   "execution_count": 31,
   "metadata": {
    "scrolled": true
   },
   "outputs": [
    {
     "data": {
      "text/html": [
       "<div>\n",
       "<style scoped>\n",
       "    .dataframe tbody tr th:only-of-type {\n",
       "        vertical-align: middle;\n",
       "    }\n",
       "\n",
       "    .dataframe tbody tr th {\n",
       "        vertical-align: top;\n",
       "    }\n",
       "\n",
       "    .dataframe thead th {\n",
       "        text-align: right;\n",
       "    }\n",
       "</style>\n",
       "<table border=\"1\" class=\"dataframe\">\n",
       "  <thead>\n",
       "    <tr style=\"text-align: right;\">\n",
       "      <th></th>\n",
       "      <th>Home Ownership</th>\n",
       "      <th>Annual Income</th>\n",
       "      <th>Years in current job</th>\n",
       "      <th>Tax Liens</th>\n",
       "      <th>Number of Open Accounts</th>\n",
       "      <th>Years of Credit History</th>\n",
       "      <th>Maximum Open Credit</th>\n",
       "      <th>Number of Credit Problems</th>\n",
       "      <th>Months since last delinquent</th>\n",
       "      <th>Bankruptcies</th>\n",
       "      <th>Purpose</th>\n",
       "      <th>Term</th>\n",
       "      <th>Current Loan Amount</th>\n",
       "      <th>Current Credit Balance</th>\n",
       "      <th>Monthly Debt</th>\n",
       "      <th>Credit Score</th>\n",
       "      <th>Credit Default</th>\n",
       "    </tr>\n",
       "  </thead>\n",
       "  <tbody>\n",
       "    <tr>\n",
       "      <th>162</th>\n",
       "      <td>Home Mortgage</td>\n",
       "      <td>2131591.0</td>\n",
       "      <td>&lt; 1 year</td>\n",
       "      <td>0.0</td>\n",
       "      <td>15.0</td>\n",
       "      <td>31.7</td>\n",
       "      <td>4191176.0</td>\n",
       "      <td>0.0</td>\n",
       "      <td>NaN</td>\n",
       "      <td>0.0</td>\n",
       "      <td>debt consolidation</td>\n",
       "      <td>Short Term</td>\n",
       "      <td>269258.0</td>\n",
       "      <td>3547262.0</td>\n",
       "      <td>20783.0</td>\n",
       "      <td>728.0</td>\n",
       "      <td>0</td>\n",
       "    </tr>\n",
       "    <tr>\n",
       "      <th>4745</th>\n",
       "      <td>Own Home</td>\n",
       "      <td>6029954.0</td>\n",
       "      <td>4 years</td>\n",
       "      <td>0.0</td>\n",
       "      <td>30.0</td>\n",
       "      <td>17.5</td>\n",
       "      <td>11603856.0</td>\n",
       "      <td>0.0</td>\n",
       "      <td>NaN</td>\n",
       "      <td>0.0</td>\n",
       "      <td>debt consolidation</td>\n",
       "      <td>Short Term</td>\n",
       "      <td>753588.0</td>\n",
       "      <td>4720132.0</td>\n",
       "      <td>136679.0</td>\n",
       "      <td>745.0</td>\n",
       "      <td>0</td>\n",
       "    </tr>\n",
       "    <tr>\n",
       "      <th>2618</th>\n",
       "      <td>Home Mortgage</td>\n",
       "      <td>3199448.0</td>\n",
       "      <td>10+ years</td>\n",
       "      <td>0.0</td>\n",
       "      <td>11.0</td>\n",
       "      <td>26.3</td>\n",
       "      <td>5109676.0</td>\n",
       "      <td>0.0</td>\n",
       "      <td>71.0</td>\n",
       "      <td>0.0</td>\n",
       "      <td>debt consolidation</td>\n",
       "      <td>Short Term</td>\n",
       "      <td>767228.0</td>\n",
       "      <td>3927471.0</td>\n",
       "      <td>31461.0</td>\n",
       "      <td>715.0</td>\n",
       "      <td>0</td>\n",
       "    </tr>\n",
       "    <tr>\n",
       "      <th>3198</th>\n",
       "      <td>Home Mortgage</td>\n",
       "      <td>NaN</td>\n",
       "      <td>10+ years</td>\n",
       "      <td>0.0</td>\n",
       "      <td>14.0</td>\n",
       "      <td>26.9</td>\n",
       "      <td>5150860.0</td>\n",
       "      <td>0.0</td>\n",
       "      <td>49.0</td>\n",
       "      <td>0.0</td>\n",
       "      <td>home improvements</td>\n",
       "      <td>Short Term</td>\n",
       "      <td>163680.0</td>\n",
       "      <td>3683340.0</td>\n",
       "      <td>75910.0</td>\n",
       "      <td>NaN</td>\n",
       "      <td>0</td>\n",
       "    </tr>\n",
       "    <tr>\n",
       "      <th>3316</th>\n",
       "      <td>Home Mortgage</td>\n",
       "      <td>NaN</td>\n",
       "      <td>9 years</td>\n",
       "      <td>0.0</td>\n",
       "      <td>17.0</td>\n",
       "      <td>28.4</td>\n",
       "      <td>6619316.0</td>\n",
       "      <td>0.0</td>\n",
       "      <td>NaN</td>\n",
       "      <td>0.0</td>\n",
       "      <td>debt consolidation</td>\n",
       "      <td>Long Term</td>\n",
       "      <td>522874.0</td>\n",
       "      <td>3944514.0</td>\n",
       "      <td>65905.0</td>\n",
       "      <td>NaN</td>\n",
       "      <td>1</td>\n",
       "    </tr>\n",
       "  </tbody>\n",
       "</table>\n",
       "</div>"
      ],
      "text/plain": [
       "     Home Ownership  Annual Income Years in current job  Tax Liens  \\\n",
       "162   Home Mortgage      2131591.0             < 1 year        0.0   \n",
       "4745       Own Home      6029954.0              4 years        0.0   \n",
       "2618  Home Mortgage      3199448.0            10+ years        0.0   \n",
       "3198  Home Mortgage            NaN            10+ years        0.0   \n",
       "3316  Home Mortgage            NaN              9 years        0.0   \n",
       "\n",
       "      Number of Open Accounts  Years of Credit History  Maximum Open Credit  \\\n",
       "162                      15.0                     31.7            4191176.0   \n",
       "4745                     30.0                     17.5           11603856.0   \n",
       "2618                     11.0                     26.3            5109676.0   \n",
       "3198                     14.0                     26.9            5150860.0   \n",
       "3316                     17.0                     28.4            6619316.0   \n",
       "\n",
       "      Number of Credit Problems  Months since last delinquent  Bankruptcies  \\\n",
       "162                         0.0                           NaN           0.0   \n",
       "4745                        0.0                           NaN           0.0   \n",
       "2618                        0.0                          71.0           0.0   \n",
       "3198                        0.0                          49.0           0.0   \n",
       "3316                        0.0                           NaN           0.0   \n",
       "\n",
       "                 Purpose        Term  Current Loan Amount  \\\n",
       "162   debt consolidation  Short Term             269258.0   \n",
       "4745  debt consolidation  Short Term             753588.0   \n",
       "2618  debt consolidation  Short Term             767228.0   \n",
       "3198   home improvements  Short Term             163680.0   \n",
       "3316  debt consolidation   Long Term             522874.0   \n",
       "\n",
       "      Current Credit Balance  Monthly Debt  Credit Score  Credit Default  \n",
       "162                3547262.0       20783.0         728.0               0  \n",
       "4745               4720132.0      136679.0         745.0               0  \n",
       "2618               3927471.0       31461.0         715.0               0  \n",
       "3198               3683340.0       75910.0           NaN               0  \n",
       "3316               3944514.0       65905.0           NaN               1  "
      ]
     },
     "execution_count": 31,
     "metadata": {},
     "output_type": "execute_result"
    }
   ],
   "source": [
    "train.loc[train['Current Credit Balance'] > 3*10**6, :].head()"
   ]
  },
  {
   "cell_type": "markdown",
   "metadata": {},
   "source": [
    "Значение **'Current Credit Balance' > 3*10^6** явно является выбросом. Заменим его на медианное значение."
   ]
  },
  {
   "cell_type": "code",
   "execution_count": 32,
   "metadata": {},
   "outputs": [],
   "source": [
    "median_current_credit_balance = train['Current Credit Balance'].median()"
   ]
  },
  {
   "cell_type": "markdown",
   "metadata": {},
   "source": [
    " "
   ]
  },
  {
   "cell_type": "code",
   "execution_count": 33,
   "metadata": {
    "scrolled": true
   },
   "outputs": [
    {
     "data": {
      "text/html": [
       "<div>\n",
       "<style scoped>\n",
       "    .dataframe tbody tr th:only-of-type {\n",
       "        vertical-align: middle;\n",
       "    }\n",
       "\n",
       "    .dataframe tbody tr th {\n",
       "        vertical-align: top;\n",
       "    }\n",
       "\n",
       "    .dataframe thead th {\n",
       "        text-align: right;\n",
       "    }\n",
       "</style>\n",
       "<table border=\"1\" class=\"dataframe\">\n",
       "  <thead>\n",
       "    <tr style=\"text-align: right;\">\n",
       "      <th></th>\n",
       "      <th>Home Ownership</th>\n",
       "      <th>Annual Income</th>\n",
       "      <th>Years in current job</th>\n",
       "      <th>Tax Liens</th>\n",
       "      <th>Number of Open Accounts</th>\n",
       "      <th>Years of Credit History</th>\n",
       "      <th>Maximum Open Credit</th>\n",
       "      <th>Number of Credit Problems</th>\n",
       "      <th>Months since last delinquent</th>\n",
       "      <th>Bankruptcies</th>\n",
       "      <th>Purpose</th>\n",
       "      <th>Term</th>\n",
       "      <th>Current Loan Amount</th>\n",
       "      <th>Current Credit Balance</th>\n",
       "      <th>Monthly Debt</th>\n",
       "      <th>Credit Score</th>\n",
       "      <th>Credit Default</th>\n",
       "    </tr>\n",
       "  </thead>\n",
       "  <tbody>\n",
       "    <tr>\n",
       "      <th>7459</th>\n",
       "      <td>Home Mortgage</td>\n",
       "      <td>NaN</td>\n",
       "      <td>9 years</td>\n",
       "      <td>3.0</td>\n",
       "      <td>21.0</td>\n",
       "      <td>12.1</td>\n",
       "      <td>1547854.0</td>\n",
       "      <td>3.0</td>\n",
       "      <td>37.0</td>\n",
       "      <td>0.0</td>\n",
       "      <td>debt consolidation</td>\n",
       "      <td>Short Term</td>\n",
       "      <td>458854.0</td>\n",
       "      <td>1149614.0</td>\n",
       "      <td>85030.0</td>\n",
       "      <td>NaN</td>\n",
       "      <td>0</td>\n",
       "    </tr>\n",
       "    <tr>\n",
       "      <th>1472</th>\n",
       "      <td>Home Mortgage</td>\n",
       "      <td>3234199.0</td>\n",
       "      <td>8 years</td>\n",
       "      <td>0.0</td>\n",
       "      <td>14.0</td>\n",
       "      <td>28.2</td>\n",
       "      <td>878856.0</td>\n",
       "      <td>0.0</td>\n",
       "      <td>1.0</td>\n",
       "      <td>0.0</td>\n",
       "      <td>debt consolidation</td>\n",
       "      <td>Short Term</td>\n",
       "      <td>616792.0</td>\n",
       "      <td>534356.0</td>\n",
       "      <td>84359.0</td>\n",
       "      <td>742.0</td>\n",
       "      <td>1</td>\n",
       "    </tr>\n",
       "    <tr>\n",
       "      <th>7478</th>\n",
       "      <td>Home Mortgage</td>\n",
       "      <td>3888160.0</td>\n",
       "      <td>6 years</td>\n",
       "      <td>0.0</td>\n",
       "      <td>30.0</td>\n",
       "      <td>16.3</td>\n",
       "      <td>1435456.0</td>\n",
       "      <td>0.0</td>\n",
       "      <td>21.0</td>\n",
       "      <td>0.0</td>\n",
       "      <td>debt consolidation</td>\n",
       "      <td>Short Term</td>\n",
       "      <td>787864.0</td>\n",
       "      <td>402914.0</td>\n",
       "      <td>93640.0</td>\n",
       "      <td>703.0</td>\n",
       "      <td>0</td>\n",
       "    </tr>\n",
       "    <tr>\n",
       "      <th>2535</th>\n",
       "      <td>Home Mortgage</td>\n",
       "      <td>4120226.0</td>\n",
       "      <td>10+ years</td>\n",
       "      <td>0.0</td>\n",
       "      <td>15.0</td>\n",
       "      <td>13.0</td>\n",
       "      <td>3931620.0</td>\n",
       "      <td>0.0</td>\n",
       "      <td>NaN</td>\n",
       "      <td>0.0</td>\n",
       "      <td>debt consolidation</td>\n",
       "      <td>Long Term</td>\n",
       "      <td>542146.0</td>\n",
       "      <td>2889577.0</td>\n",
       "      <td>104036.0</td>\n",
       "      <td>656.0</td>\n",
       "      <td>1</td>\n",
       "    </tr>\n",
       "    <tr>\n",
       "      <th>4745</th>\n",
       "      <td>Own Home</td>\n",
       "      <td>6029954.0</td>\n",
       "      <td>4 years</td>\n",
       "      <td>0.0</td>\n",
       "      <td>30.0</td>\n",
       "      <td>17.5</td>\n",
       "      <td>11603856.0</td>\n",
       "      <td>0.0</td>\n",
       "      <td>NaN</td>\n",
       "      <td>0.0</td>\n",
       "      <td>debt consolidation</td>\n",
       "      <td>Short Term</td>\n",
       "      <td>753588.0</td>\n",
       "      <td>4720132.0</td>\n",
       "      <td>136679.0</td>\n",
       "      <td>745.0</td>\n",
       "      <td>0</td>\n",
       "    </tr>\n",
       "  </tbody>\n",
       "</table>\n",
       "</div>"
      ],
      "text/plain": [
       "     Home Ownership  Annual Income Years in current job  Tax Liens  \\\n",
       "7459  Home Mortgage            NaN              9 years        3.0   \n",
       "1472  Home Mortgage      3234199.0              8 years        0.0   \n",
       "7478  Home Mortgage      3888160.0              6 years        0.0   \n",
       "2535  Home Mortgage      4120226.0            10+ years        0.0   \n",
       "4745       Own Home      6029954.0              4 years        0.0   \n",
       "\n",
       "      Number of Open Accounts  Years of Credit History  Maximum Open Credit  \\\n",
       "7459                     21.0                     12.1            1547854.0   \n",
       "1472                     14.0                     28.2             878856.0   \n",
       "7478                     30.0                     16.3            1435456.0   \n",
       "2535                     15.0                     13.0            3931620.0   \n",
       "4745                     30.0                     17.5           11603856.0   \n",
       "\n",
       "      Number of Credit Problems  Months since last delinquent  Bankruptcies  \\\n",
       "7459                        3.0                          37.0           0.0   \n",
       "1472                        0.0                           1.0           0.0   \n",
       "7478                        0.0                          21.0           0.0   \n",
       "2535                        0.0                           NaN           0.0   \n",
       "4745                        0.0                           NaN           0.0   \n",
       "\n",
       "                 Purpose        Term  Current Loan Amount  \\\n",
       "7459  debt consolidation  Short Term             458854.0   \n",
       "1472  debt consolidation  Short Term             616792.0   \n",
       "7478  debt consolidation  Short Term             787864.0   \n",
       "2535  debt consolidation   Long Term             542146.0   \n",
       "4745  debt consolidation  Short Term             753588.0   \n",
       "\n",
       "      Current Credit Balance  Monthly Debt  Credit Score  Credit Default  \n",
       "7459               1149614.0       85030.0           NaN               0  \n",
       "1472                534356.0       84359.0         742.0               1  \n",
       "7478                402914.0       93640.0         703.0               0  \n",
       "2535               2889577.0      104036.0         656.0               1  \n",
       "4745               4720132.0      136679.0         745.0               0  "
      ]
     },
     "execution_count": 33,
     "metadata": {},
     "output_type": "execute_result"
    }
   ],
   "source": [
    "train.loc[train['Monthly Debt'] > 70000, :].head()"
   ]
  },
  {
   "cell_type": "markdown",
   "metadata": {},
   "source": [
    "Значение **'Monthly Debt' > 70 000** явно является выбросом. Заменим его на медианное значение."
   ]
  },
  {
   "cell_type": "code",
   "execution_count": 34,
   "metadata": {},
   "outputs": [],
   "source": [
    "median_monthly_debt = train['Monthly Debt'].median()"
   ]
  },
  {
   "cell_type": "markdown",
   "metadata": {},
   "source": [
    " "
   ]
  },
  {
   "cell_type": "markdown",
   "metadata": {},
   "source": [
    " "
   ]
  },
  {
   "cell_type": "markdown",
   "metadata": {},
   "source": [
    "## Применение функции по изменению данных. Тренировочная выборка."
   ]
  },
  {
   "cell_type": "code",
   "execution_count": 35,
   "metadata": {
    "scrolled": true
   },
   "outputs": [
    {
     "name": "stderr",
     "output_type": "stream",
     "text": [
      "D:\\Anaconda3\\lib\\site-packages\\pandas\\core\\indexing.py:543: SettingWithCopyWarning: \n",
      "A value is trying to be set on a copy of a slice from a DataFrame.\n",
      "Try using .loc[row_indexer,col_indexer] = value instead\n",
      "\n",
      "See the caveats in the documentation: http://pandas.pydata.org/pandas-docs/stable/indexing.html#indexing-view-versus-copy\n",
      "  self.obj[item] = s\n",
      "D:\\Anaconda3\\lib\\site-packages\\ipykernel_launcher.py:13: SettingWithCopyWarning: \n",
      "A value is trying to be set on a copy of a slice from a DataFrame.\n",
      "Try using .loc[row_indexer,col_indexer] = value instead\n",
      "\n",
      "See the caveats in the documentation: http://pandas.pydata.org/pandas-docs/stable/indexing.html#indexing-view-versus-copy\n",
      "  del sys.path[0]\n"
     ]
    }
   ],
   "source": [
    "modify_data(train, median_annual_income, median_accounts, median_months_delinquent, median_years_history, median_max_credit, \n",
    "            median_current_credit_balance, median_monthly_debt, median_bankruptcies)"
   ]
  },
  {
   "cell_type": "markdown",
   "metadata": {},
   "source": [
    "Заменим пропущенные значения поля `Credit Score`"
   ]
  },
  {
   "cell_type": "code",
   "execution_count": 36,
   "metadata": {},
   "outputs": [],
   "source": [
    "null_credit_score = train[train['Credit Score'].isnull()].index\n",
    "not_null__credit_score = train[train['Credit Score'].notnull()].index"
   ]
  },
  {
   "cell_type": "code",
   "execution_count": 37,
   "metadata": {},
   "outputs": [
    {
     "data": {
      "text/plain": [
       "Int64Index([4716,  532, 2140, 1393,  481, 1499, 4521, 2351, 5176, 2301,\n",
       "            ...\n",
       "            6418, 1765, 6266, 1789,  829,  447, 6655,   48,  772, 7113],\n",
       "           dtype='int64', length=1186)"
      ]
     },
     "execution_count": 37,
     "metadata": {},
     "output_type": "execute_result"
    }
   ],
   "source": [
    "null_credit_score"
   ]
  },
  {
   "cell_type": "code",
   "execution_count": 38,
   "metadata": {},
   "outputs": [
    {
     "data": {
      "text/plain": [
       "Int64Index([4864, 7199, 2560, 3474, 4290, 7465,  533, 6748, 3725, 5006,\n",
       "            ...\n",
       "            1646,  840, 4298, 6897, 4706, 6844, 1144, 6512, 5944, 5327],\n",
       "           dtype='int64', length=4439)"
      ]
     },
     "execution_count": 38,
     "metadata": {},
     "output_type": "execute_result"
    }
   ],
   "source": [
    "not_null__credit_score"
   ]
  },
  {
   "cell_type": "code",
   "execution_count": 39,
   "metadata": {},
   "outputs": [],
   "source": [
    "y_train_credit = train.loc[not_null__credit_score, :]\n",
    "y_train_credit = y_train_credit['Credit Score']\n",
    "X_train_credit = train.loc[not_null__credit_score, :]\n",
    "X_train_credit = X_train_credit.drop('Credit Score', axis=1)\n",
    "X_train_credit = X_train_credit[['Bankruptcies', 'Number of Credit Problems', 'Maximum Open Credit', 'Years of Credit History', 'Number of Open Accounts']]"
   ]
  },
  {
   "cell_type": "code",
   "execution_count": 40,
   "metadata": {},
   "outputs": [],
   "source": [
    "X_test_credit = train.loc[null_credit_score, :]\n",
    "X_test_credit = X_test_credit.drop('Credit Score', axis=1)\n",
    "X_test_credit = X_test_credit[['Bankruptcies', 'Number of Credit Problems', 'Maximum Open Credit', 'Years of Credit History', 'Number of Open Accounts']]"
   ]
  },
  {
   "cell_type": "code",
   "execution_count": 41,
   "metadata": {},
   "outputs": [],
   "source": [
    "parameters = {'n_estimators': [150, 200, 250],\n",
    "              'max_features': np.arange(3, 6),\n",
    "              'max_depth': np.arange(7, 10)}\n",
    "\n",
    "clf_credit = GridSearchCV(estimator=RandomForestRegressor(random_state=42),\n",
    "                   param_grid=parameters,\n",
    "                   scoring='r2',\n",
    "                   cv=4)"
   ]
  },
  {
   "cell_type": "code",
   "execution_count": 42,
   "metadata": {},
   "outputs": [
    {
     "data": {
      "text/plain": [
       "GridSearchCV(cv=4, error_score='raise-deprecating',\n",
       "       estimator=RandomForestRegressor(bootstrap=True, criterion='mse', max_depth=None,\n",
       "           max_features='auto', max_leaf_nodes=None,\n",
       "           min_impurity_decrease=0.0, min_impurity_split=None,\n",
       "           min_samples_leaf=1, min_samples_split=2,\n",
       "           min_weight_fraction_leaf=0.0, n_estimators='warn', n_jobs=None,\n",
       "           oob_score=False, random_state=42, verbose=0, warm_start=False),\n",
       "       fit_params=None, iid='warn', n_jobs=None,\n",
       "       param_grid={'n_estimators': [150, 200, 250], 'max_features': array([3, 4, 5]), 'max_depth': array([7, 8, 9])},\n",
       "       pre_dispatch='2*n_jobs', refit=True, return_train_score='warn',\n",
       "       scoring='r2', verbose=0)"
      ]
     },
     "execution_count": 42,
     "metadata": {},
     "output_type": "execute_result"
    }
   ],
   "source": [
    "clf_credit.fit(X_train_credit, y_train_credit)"
   ]
  },
  {
   "cell_type": "code",
   "execution_count": 43,
   "metadata": {
    "scrolled": true
   },
   "outputs": [
    {
     "data": {
      "text/plain": [
       "{'max_depth': 7, 'max_features': 3, 'n_estimators': 250}"
      ]
     },
     "execution_count": 43,
     "metadata": {},
     "output_type": "execute_result"
    }
   ],
   "source": [
    "clf_credit.best_params_"
   ]
  },
  {
   "cell_type": "code",
   "execution_count": 44,
   "metadata": {},
   "outputs": [
    {
     "data": {
      "text/plain": [
       "RandomForestRegressor(bootstrap=True, criterion='mse', max_depth=7,\n",
       "           max_features=3, max_leaf_nodes=None, min_impurity_decrease=0.0,\n",
       "           min_impurity_split=None, min_samples_leaf=1,\n",
       "           min_samples_split=2, min_weight_fraction_leaf=0.0,\n",
       "           n_estimators=250, n_jobs=None, oob_score=False,\n",
       "           random_state=None, verbose=0, warm_start=False)"
      ]
     },
     "execution_count": 44,
     "metadata": {},
     "output_type": "execute_result"
    }
   ],
   "source": [
    "clf_credit = RandomForestRegressor(max_depth=7, max_features=3, n_estimators=250)\n",
    "clf_credit.fit(X_train_credit, y_train_credit)"
   ]
  },
  {
   "cell_type": "code",
   "execution_count": 45,
   "metadata": {},
   "outputs": [
    {
     "data": {
      "text/plain": [
       "array([1125.07968854, 1899.43893571, 1428.29621943, ..., 1213.22965831,\n",
       "       1227.27684193, 1198.58223791])"
      ]
     },
     "execution_count": 45,
     "metadata": {},
     "output_type": "execute_result"
    }
   ],
   "source": [
    "y_test_credit = clf_credit.predict(X_test_credit)\n",
    "y_test_credit"
   ]
  },
  {
   "cell_type": "code",
   "execution_count": 46,
   "metadata": {
    "scrolled": false
   },
   "outputs": [
    {
     "name": "stderr",
     "output_type": "stream",
     "text": [
      "D:\\Anaconda3\\lib\\site-packages\\pandas\\core\\indexing.py:543: SettingWithCopyWarning: \n",
      "A value is trying to be set on a copy of a slice from a DataFrame.\n",
      "Try using .loc[row_indexer,col_indexer] = value instead\n",
      "\n",
      "See the caveats in the documentation: http://pandas.pydata.org/pandas-docs/stable/indexing.html#indexing-view-versus-copy\n",
      "  self.obj[item] = s\n"
     ]
    }
   ],
   "source": [
    "train.loc[null_credit_score, 'Credit Score'] = y_test_credit"
   ]
  },
  {
   "cell_type": "code",
   "execution_count": 47,
   "metadata": {},
   "outputs": [
    {
     "data": {
      "text/html": [
       "<div>\n",
       "<style scoped>\n",
       "    .dataframe tbody tr th:only-of-type {\n",
       "        vertical-align: middle;\n",
       "    }\n",
       "\n",
       "    .dataframe tbody tr th {\n",
       "        vertical-align: top;\n",
       "    }\n",
       "\n",
       "    .dataframe thead th {\n",
       "        text-align: right;\n",
       "    }\n",
       "</style>\n",
       "<table border=\"1\" class=\"dataframe\">\n",
       "  <thead>\n",
       "    <tr style=\"text-align: right;\">\n",
       "      <th></th>\n",
       "      <th>Annual Income</th>\n",
       "      <th>Tax Liens</th>\n",
       "      <th>Number of Open Accounts</th>\n",
       "      <th>Years of Credit History</th>\n",
       "      <th>Maximum Open Credit</th>\n",
       "      <th>Number of Credit Problems</th>\n",
       "      <th>Months since last delinquent</th>\n",
       "      <th>Bankruptcies</th>\n",
       "      <th>Current Loan Amount</th>\n",
       "      <th>Current Credit Balance</th>\n",
       "      <th>Monthly Debt</th>\n",
       "      <th>Credit Score</th>\n",
       "      <th>Credit Default</th>\n",
       "      <th>Short Term</th>\n",
       "    </tr>\n",
       "  </thead>\n",
       "  <tbody>\n",
       "    <tr>\n",
       "      <th>count</th>\n",
       "      <td>4.439000e+03</td>\n",
       "      <td>5625.000000</td>\n",
       "      <td>5625.000000</td>\n",
       "      <td>5625.000000</td>\n",
       "      <td>5.625000e+03</td>\n",
       "      <td>5625.000000</td>\n",
       "      <td>2569.000000</td>\n",
       "      <td>5625.000000</td>\n",
       "      <td>5.625000e+03</td>\n",
       "      <td>5.625000e+03</td>\n",
       "      <td>5625.000000</td>\n",
       "      <td>5625.000000</td>\n",
       "      <td>5625.000000</td>\n",
       "      <td>5625.000000</td>\n",
       "    </tr>\n",
       "    <tr>\n",
       "      <th>mean</th>\n",
       "      <td>1.327452e+06</td>\n",
       "      <td>0.030044</td>\n",
       "      <td>11.058667</td>\n",
       "      <td>18.211200</td>\n",
       "      <td>6.431799e+05</td>\n",
       "      <td>0.166044</td>\n",
       "      <td>34.626703</td>\n",
       "      <td>0.112889</td>\n",
       "      <td>1.177759e+07</td>\n",
       "      <td>2.836054e+05</td>\n",
       "      <td>18074.886044</td>\n",
       "      <td>1151.864495</td>\n",
       "      <td>0.280711</td>\n",
       "      <td>0.740622</td>\n",
       "    </tr>\n",
       "    <tr>\n",
       "      <th>std</th>\n",
       "      <td>7.011857e+05</td>\n",
       "      <td>0.264657</td>\n",
       "      <td>4.722654</td>\n",
       "      <td>6.821262</td>\n",
       "      <td>6.720867e+05</td>\n",
       "      <td>0.488654</td>\n",
       "      <td>21.560382</td>\n",
       "      <td>0.336103</td>\n",
       "      <td>3.180890e+07</td>\n",
       "      <td>2.779822e+05</td>\n",
       "      <td>11184.390413</td>\n",
       "      <td>1432.174682</td>\n",
       "      <td>0.449387</td>\n",
       "      <td>0.438332</td>\n",
       "    </tr>\n",
       "    <tr>\n",
       "      <th>min</th>\n",
       "      <td>1.645970e+05</td>\n",
       "      <td>0.000000</td>\n",
       "      <td>2.000000</td>\n",
       "      <td>4.000000</td>\n",
       "      <td>0.000000e+00</td>\n",
       "      <td>0.000000</td>\n",
       "      <td>0.000000</td>\n",
       "      <td>0.000000</td>\n",
       "      <td>2.147200e+04</td>\n",
       "      <td>0.000000e+00</td>\n",
       "      <td>0.000000</td>\n",
       "      <td>585.000000</td>\n",
       "      <td>0.000000</td>\n",
       "      <td>0.000000</td>\n",
       "    </tr>\n",
       "    <tr>\n",
       "      <th>25%</th>\n",
       "      <td>8.401325e+05</td>\n",
       "      <td>0.000000</td>\n",
       "      <td>8.000000</td>\n",
       "      <td>13.500000</td>\n",
       "      <td>2.801700e+05</td>\n",
       "      <td>0.000000</td>\n",
       "      <td>16.000000</td>\n",
       "      <td>0.000000</td>\n",
       "      <td>1.814340e+05</td>\n",
       "      <td>1.140950e+05</td>\n",
       "      <td>10039.000000</td>\n",
       "      <td>718.000000</td>\n",
       "      <td>0.000000</td>\n",
       "      <td>0.000000</td>\n",
       "    </tr>\n",
       "    <tr>\n",
       "      <th>50%</th>\n",
       "      <td>1.171920e+06</td>\n",
       "      <td>0.000000</td>\n",
       "      <td>10.000000</td>\n",
       "      <td>17.000000</td>\n",
       "      <td>4.819100e+05</td>\n",
       "      <td>0.000000</td>\n",
       "      <td>32.000000</td>\n",
       "      <td>0.000000</td>\n",
       "      <td>3.111020e+05</td>\n",
       "      <td>2.092850e+05</td>\n",
       "      <td>16087.000000</td>\n",
       "      <td>738.000000</td>\n",
       "      <td>0.000000</td>\n",
       "      <td>1.000000</td>\n",
       "    </tr>\n",
       "    <tr>\n",
       "      <th>75%</th>\n",
       "      <td>1.626932e+06</td>\n",
       "      <td>0.000000</td>\n",
       "      <td>14.000000</td>\n",
       "      <td>21.700000</td>\n",
       "      <td>7.905480e+05</td>\n",
       "      <td>0.000000</td>\n",
       "      <td>50.000000</td>\n",
       "      <td>0.000000</td>\n",
       "      <td>5.265700e+05</td>\n",
       "      <td>3.587390e+05</td>\n",
       "      <td>23716.000000</td>\n",
       "      <td>917.787020</td>\n",
       "      <td>1.000000</td>\n",
       "      <td>1.000000</td>\n",
       "    </tr>\n",
       "    <tr>\n",
       "      <th>max</th>\n",
       "      <td>4.906028e+06</td>\n",
       "      <td>6.000000</td>\n",
       "      <td>30.000000</td>\n",
       "      <td>44.800000</td>\n",
       "      <td>9.541136e+06</td>\n",
       "      <td>6.000000</td>\n",
       "      <td>92.000000</td>\n",
       "      <td>4.000000</td>\n",
       "      <td>1.000000e+08</td>\n",
       "      <td>2.913707e+06</td>\n",
       "      <td>69413.000000</td>\n",
       "      <td>7510.000000</td>\n",
       "      <td>1.000000</td>\n",
       "      <td>1.000000</td>\n",
       "    </tr>\n",
       "  </tbody>\n",
       "</table>\n",
       "</div>"
      ],
      "text/plain": [
       "       Annual Income    Tax Liens  Number of Open Accounts  \\\n",
       "count   4.439000e+03  5625.000000              5625.000000   \n",
       "mean    1.327452e+06     0.030044                11.058667   \n",
       "std     7.011857e+05     0.264657                 4.722654   \n",
       "min     1.645970e+05     0.000000                 2.000000   \n",
       "25%     8.401325e+05     0.000000                 8.000000   \n",
       "50%     1.171920e+06     0.000000                10.000000   \n",
       "75%     1.626932e+06     0.000000                14.000000   \n",
       "max     4.906028e+06     6.000000                30.000000   \n",
       "\n",
       "       Years of Credit History  Maximum Open Credit  \\\n",
       "count              5625.000000         5.625000e+03   \n",
       "mean                 18.211200         6.431799e+05   \n",
       "std                   6.821262         6.720867e+05   \n",
       "min                   4.000000         0.000000e+00   \n",
       "25%                  13.500000         2.801700e+05   \n",
       "50%                  17.000000         4.819100e+05   \n",
       "75%                  21.700000         7.905480e+05   \n",
       "max                  44.800000         9.541136e+06   \n",
       "\n",
       "       Number of Credit Problems  Months since last delinquent  Bankruptcies  \\\n",
       "count                5625.000000                   2569.000000   5625.000000   \n",
       "mean                    0.166044                     34.626703      0.112889   \n",
       "std                     0.488654                     21.560382      0.336103   \n",
       "min                     0.000000                      0.000000      0.000000   \n",
       "25%                     0.000000                     16.000000      0.000000   \n",
       "50%                     0.000000                     32.000000      0.000000   \n",
       "75%                     0.000000                     50.000000      0.000000   \n",
       "max                     6.000000                     92.000000      4.000000   \n",
       "\n",
       "       Current Loan Amount  Current Credit Balance  Monthly Debt  \\\n",
       "count         5.625000e+03            5.625000e+03   5625.000000   \n",
       "mean          1.177759e+07            2.836054e+05  18074.886044   \n",
       "std           3.180890e+07            2.779822e+05  11184.390413   \n",
       "min           2.147200e+04            0.000000e+00      0.000000   \n",
       "25%           1.814340e+05            1.140950e+05  10039.000000   \n",
       "50%           3.111020e+05            2.092850e+05  16087.000000   \n",
       "75%           5.265700e+05            3.587390e+05  23716.000000   \n",
       "max           1.000000e+08            2.913707e+06  69413.000000   \n",
       "\n",
       "       Credit Score  Credit Default   Short Term  \n",
       "count   5625.000000     5625.000000  5625.000000  \n",
       "mean    1151.864495        0.280711     0.740622  \n",
       "std     1432.174682        0.449387     0.438332  \n",
       "min      585.000000        0.000000     0.000000  \n",
       "25%      718.000000        0.000000     0.000000  \n",
       "50%      738.000000        0.000000     1.000000  \n",
       "75%      917.787020        1.000000     1.000000  \n",
       "max     7510.000000        1.000000     1.000000  "
      ]
     },
     "execution_count": 47,
     "metadata": {},
     "output_type": "execute_result"
    }
   ],
   "source": [
    "train.describe()"
   ]
  },
  {
   "cell_type": "code",
   "execution_count": 48,
   "metadata": {},
   "outputs": [
    {
     "name": "stdout",
     "output_type": "stream",
     "text": [
      "<class 'pandas.core.frame.DataFrame'>\n",
      "Int64Index: 5625 entries, 4864 to 7113\n",
      "Data columns (total 18 columns):\n",
      "Home Ownership                  5625 non-null object\n",
      "Annual Income                   4439 non-null float64\n",
      "Years in current job            5348 non-null object\n",
      "Tax Liens                       5625 non-null float64\n",
      "Number of Open Accounts         5625 non-null float64\n",
      "Years of Credit History         5625 non-null float64\n",
      "Maximum Open Credit             5625 non-null float64\n",
      "Number of Credit Problems       5625 non-null float64\n",
      "Months since last delinquent    2569 non-null float64\n",
      "Bankruptcies                    5625 non-null float64\n",
      "Purpose                         5625 non-null object\n",
      "Term                            5625 non-null object\n",
      "Current Loan Amount             5625 non-null float64\n",
      "Current Credit Balance          5625 non-null float64\n",
      "Monthly Debt                    5625 non-null float64\n",
      "Credit Score                    5625 non-null float64\n",
      "Credit Default                  5625 non-null int64\n",
      "Short Term                      5625 non-null int32\n",
      "dtypes: float64(12), int32(1), int64(1), object(4)\n",
      "memory usage: 973.0+ KB\n"
     ]
    }
   ],
   "source": [
    "train.info()"
   ]
  },
  {
   "cell_type": "code",
   "execution_count": 49,
   "metadata": {
    "scrolled": true
   },
   "outputs": [
    {
     "data": {
      "text/plain": [
       "Index(['Home Ownership', 'Annual Income', 'Years in current job', 'Tax Liens',\n",
       "       'Number of Open Accounts', 'Years of Credit History',\n",
       "       'Maximum Open Credit', 'Number of Credit Problems',\n",
       "       'Months since last delinquent', 'Bankruptcies', 'Purpose', 'Term',\n",
       "       'Current Loan Amount', 'Current Credit Balance', 'Monthly Debt',\n",
       "       'Credit Score', 'Credit Default', 'Short Term'],\n",
       "      dtype='object')"
      ]
     },
     "execution_count": 49,
     "metadata": {},
     "output_type": "execute_result"
    }
   ],
   "source": [
    "train.columns"
   ]
  },
  {
   "cell_type": "code",
   "execution_count": 50,
   "metadata": {},
   "outputs": [],
   "source": [
    "features = ['Tax Liens', 'Number of Open Accounts', 'Years of Credit History',\n",
    "            'Maximum Open Credit', 'Number of Credit Problems', 'Bankruptcies',\n",
    "            'Current Loan Amount', 'Current Credit Balance', 'Monthly Debt',\n",
    "            'Short Term', 'Credit Score']"
   ]
  },
  {
   "cell_type": "code",
   "execution_count": 51,
   "metadata": {},
   "outputs": [
    {
     "data": {
      "text/plain": [
       "<matplotlib.axes._subplots.AxesSubplot at 0x285e45f3eb8>"
      ]
     },
     "execution_count": 51,
     "metadata": {},
     "output_type": "execute_result"
    },
    {
     "data": {
      "image/png": "[encoded data removed]",
      "text/plain": [
       "<Figure size 1440x1440 with 2 Axes>"
      ]
     },
     "metadata": {
      "needs_background": "light"
     },
     "output_type": "display_data"
    }
   ],
   "source": [
    "plt.figure(figsize=(20,20))\n",
    "\n",
    "sns.set(font_scale=1.4)\n",
    "sns.heatmap(train[features].corr().round(3),annot=True, linewidths=0.5, cmap='GnBu')"
   ]
  },
  {
   "cell_type": "code",
   "execution_count": 52,
   "metadata": {
    "scrolled": false
   },
   "outputs": [
    {
     "name": "stderr",
     "output_type": "stream",
     "text": [
      "D:\\Anaconda3\\lib\\site-packages\\ipykernel_launcher.py:5: FutureWarning: \n",
      "The current behaviour of 'Series.argmax' is deprecated, use 'idxmax'\n",
      "instead.\n",
      "The behavior of 'argmax' will be corrected to return the positional\n",
      "maximum in the future. For now, use 'series.values.argmax' or\n",
      "'np.argmax(np.array(values))' to get the position of the maximum\n",
      "row.\n",
      "  \"\"\"\n",
      "D:\\Anaconda3\\lib\\site-packages\\ipykernel_launcher.py:6: FutureWarning: \n",
      "The current behaviour of 'Series.argmin' is deprecated, use 'idxmin'\n",
      "instead.\n",
      "The behavior of 'argmin' will be corrected to return the positional\n",
      "minimum in the future. For now, use 'series.values.argmin' or\n",
      "'np.argmin(np.array(values))' to get the position of the minimum\n",
      "row.\n",
      "  \n"
     ]
    }
   ],
   "source": [
    "train_balanced = get_balance(train, 'Credit Default')"
   ]
  },
  {
   "cell_type": "code",
   "execution_count": 53,
   "metadata": {},
   "outputs": [
    {
     "data": {
      "text/plain": [
       "0    4046\n",
       "1    3158\n",
       "Name: Credit Default, dtype: int64"
      ]
     },
     "execution_count": 53,
     "metadata": {},
     "output_type": "execute_result"
    }
   ],
   "source": [
    "train_balanced['Credit Default'].value_counts()"
   ]
  },
  {
   "cell_type": "code",
   "execution_count": 54,
   "metadata": {},
   "outputs": [],
   "source": [
    "y_train = train_balanced['Credit Default']\n",
    "X_train = train_balanced[features]"
   ]
  },
  {
   "cell_type": "code",
   "execution_count": 55,
   "metadata": {
    "scrolled": true
   },
   "outputs": [
    {
     "name": "stderr",
     "output_type": "stream",
     "text": [
      "D:\\Anaconda3\\lib\\site-packages\\sklearn\\preprocessing\\data.py:334: DataConversionWarning: Data with input dtype int32, float64 were all converted to float64 by MinMaxScaler.\n",
      "  return self.partial_fit(X, y)\n"
     ]
    }
   ],
   "source": [
    "scaler = MinMaxScaler()\n",
    "X_train = pd.DataFrame(scaler.fit_transform(X_train), columns=features)"
   ]
  },
  {
   "cell_type": "code",
   "execution_count": 56,
   "metadata": {},
   "outputs": [],
   "source": [
    "pca_1 = PCA(n_components=1, random_state=31)\n",
    "X_train['Bankruptcies - Number of Problems'] = pca_1.fit_transform(X_train[['Bankruptcies', 'Number of Credit Problems']])"
   ]
  },
  {
   "cell_type": "code",
   "execution_count": 57,
   "metadata": {},
   "outputs": [],
   "source": [
    "pca_2 = PCA(n_components=1, random_state=31)\n",
    "X_train['Maximum Open Credit - Current Cr Balance'] = pca_2.fit_transform(X_train[['Maximum Open Credit', 'Current Credit Balance']])"
   ]
  },
  {
   "cell_type": "markdown",
   "metadata": {},
   "source": [
    "Создаем кластеры"
   ]
  },
  {
   "cell_type": "code",
   "execution_count": 58,
   "metadata": {},
   "outputs": [],
   "source": [
    "cluster_feauters = ['Tax Liens', 'Credit Score']"
   ]
  },
  {
   "cell_type": "code",
   "execution_count": 59,
   "metadata": {},
   "outputs": [
    {
     "data": {
      "text/plain": [
       "Text(0.5, 1.0, 'Inertia')"
      ]
     },
     "execution_count": 59,
     "metadata": {},
     "output_type": "execute_result"
    },
    {
     "data": {
      "image/png": "[encoded data removed]",
      "text/plain": [
       "<Figure size 432x288 with 1 Axes>"
      ]
     },
     "metadata": {},
     "output_type": "display_data"
    }
   ],
   "source": [
    "inertias = []\n",
    "\n",
    "for i in range(2, 11):\n",
    "    temp_model = KMeans(n_clusters=i, random_state=42)\n",
    "    temp_model.fit(X_train[cluster_feauters])\n",
    "    \n",
    "    temp_inertia = temp_model.inertia_\n",
    "    \n",
    "    inertias.append(temp_inertia)\n",
    "    \n",
    "plt.plot(range(2, 11), inertias)\n",
    "\n",
    "plt.title('Inertia')"
   ]
  },
  {
   "cell_type": "code",
   "execution_count": 60,
   "metadata": {},
   "outputs": [
    {
     "data": {
      "text/plain": [
       "array([3, 3, 3, ..., 3, 3, 3])"
      ]
     },
     "execution_count": 60,
     "metadata": {},
     "output_type": "execute_result"
    }
   ],
   "source": [
    "model = KMeans(n_clusters=4, random_state=42)\n",
    "labels = model.fit_predict(X_train[cluster_feauters])\n",
    "labels"
   ]
  },
  {
   "cell_type": "code",
   "execution_count": 61,
   "metadata": {},
   "outputs": [
    {
     "data": {
      "text/plain": [
       "Text(0, 0.5, 'Credit Score')"
      ]
     },
     "execution_count": 61,
     "metadata": {},
     "output_type": "execute_result"
    },
    {
     "data": {
      "image/png": "[encoded data removed]",
      "text/plain": [
       "<Figure size 432x288 with 1 Axes>"
      ]
     },
     "metadata": {},
     "output_type": "display_data"
    }
   ],
   "source": [
    "plt.scatter(X_train[cluster_feauters[0]], X_train[cluster_feauters[1]], c=labels)\n",
    "\n",
    "plt.xlabel(cluster_feauters[0])\n",
    "plt.ylabel(cluster_feauters[1])"
   ]
  },
  {
   "cell_type": "code",
   "execution_count": 62,
   "metadata": {},
   "outputs": [],
   "source": [
    "cluster_name = cluster_feauters[0] + ' ' + cluster_feauters[1]\n",
    "model = AgglomerativeClustering(n_clusters=4)\n",
    "X_train[cluster_name] = model.fit_predict(X_train[cluster_feauters])"
   ]
  },
  {
   "cell_type": "code",
   "execution_count": 63,
   "metadata": {},
   "outputs": [
    {
     "data": {
      "text/plain": [
       "Text(0, 0.5, 'Credit Score')"
      ]
     },
     "execution_count": 63,
     "metadata": {},
     "output_type": "execute_result"
    },
    {
     "data": {
      "image/png": "[encoded data removed]",
      "text/plain": [
       "<Figure size 432x288 with 1 Axes>"
      ]
     },
     "metadata": {},
     "output_type": "display_data"
    }
   ],
   "source": [
    "plt.scatter(X_train[cluster_feauters[0]], X_train[cluster_feauters[1]], c=X_train[cluster_name])\n",
    "\n",
    "plt.xlabel(cluster_feauters[0])\n",
    "plt.ylabel(cluster_feauters[1])"
   ]
  },
  {
   "cell_type": "code",
   "execution_count": 64,
   "metadata": {},
   "outputs": [
    {
     "data": {
      "text/plain": [
       "KNeighborsClassifier(algorithm='auto', leaf_size=30, metric='minkowski',\n",
       "           metric_params=None, n_jobs=None, n_neighbors=4, p=2,\n",
       "           weights='uniform')"
      ]
     },
     "execution_count": 64,
     "metadata": {},
     "output_type": "execute_result"
    }
   ],
   "source": [
    "knn = KNeighborsClassifier(n_neighbors=4)\n",
    "knn.fit(X_train[cluster_feauters], X_train[cluster_name])"
   ]
  },
  {
   "cell_type": "code",
   "execution_count": 65,
   "metadata": {},
   "outputs": [],
   "source": [
    "X_train[cluster_name] = X_train[cluster_name].astype(object)\n",
    "X_train = pd.get_dummies(X_train)"
   ]
  },
  {
   "cell_type": "code",
   "execution_count": 66,
   "metadata": {},
   "outputs": [],
   "source": [
    "pca_3 = PCA(n_components=1, random_state=31)\n",
    "X_train['Tax Liens - Tax Liens Credit Score_0'] = pca_3.fit_transform(X_train[['Tax Liens', 'Tax Liens Credit Score_0']])"
   ]
  },
  {
   "cell_type": "code",
   "execution_count": 67,
   "metadata": {},
   "outputs": [],
   "source": [
    "pca_4 = PCA(n_components=1, random_state=31)\n",
    "X_train['Credit Score - Tax Liens Credit Score_1'] = pca_4.fit_transform(X_train[['Credit Score', 'Tax Liens Credit Score_1']])"
   ]
  },
  {
   "cell_type": "code",
   "execution_count": 68,
   "metadata": {},
   "outputs": [],
   "source": [
    "pca_5 = PCA(n_components=1, random_state=31)\n",
    "X_train['Tax Liens Credit Score_2 - Tax Liens Credit Score_3'] = pca_5.fit_transform(X_train[['Tax Liens Credit Score_2', 'Tax Liens Credit Score_3']])"
   ]
  },
  {
   "cell_type": "code",
   "execution_count": 69,
   "metadata": {},
   "outputs": [
    {
     "data": {
      "text/plain": [
       "Index(['Tax Liens', 'Number of Open Accounts', 'Years of Credit History',\n",
       "       'Maximum Open Credit', 'Number of Credit Problems', 'Bankruptcies',\n",
       "       'Current Loan Amount', 'Current Credit Balance', 'Monthly Debt',\n",
       "       'Short Term', 'Credit Score', 'Bankruptcies - Number of Problems',\n",
       "       'Maximum Open Credit - Current Cr Balance', 'Tax Liens Credit Score_0',\n",
       "       'Tax Liens Credit Score_1', 'Tax Liens Credit Score_2',\n",
       "       'Tax Liens Credit Score_3', 'Tax Liens - Tax Liens Credit Score_0',\n",
       "       'Credit Score - Tax Liens Credit Score_1',\n",
       "       'Tax Liens Credit Score_2 - Tax Liens Credit Score_3'],\n",
       "      dtype='object')"
      ]
     },
     "execution_count": 69,
     "metadata": {},
     "output_type": "execute_result"
    }
   ],
   "source": [
    "X_train.columns"
   ]
  },
  {
   "cell_type": "code",
   "execution_count": 70,
   "metadata": {},
   "outputs": [],
   "source": [
    "new_features = ['Number of Open Accounts', 'Years of Credit History',\n",
    "                'Maximum Open Credit - Current Cr Balance', 'Bankruptcies - Number of Problems',\n",
    "                'Current Loan Amount', 'Monthly Debt',\n",
    "                'Short Term', \n",
    "                'Tax Liens - Tax Liens Credit Score_0', 'Credit Score - Tax Liens Credit Score_1',\n",
    "                'Tax Liens Credit Score_2 - Tax Liens Credit Score_3']"
   ]
  },
  {
   "cell_type": "code",
   "execution_count": 71,
   "metadata": {},
   "outputs": [
    {
     "data": {
      "text/plain": [
       "10"
      ]
     },
     "execution_count": 71,
     "metadata": {},
     "output_type": "execute_result"
    }
   ],
   "source": [
    "len(new_features)"
   ]
  },
  {
   "cell_type": "code",
   "execution_count": 72,
   "metadata": {},
   "outputs": [
    {
     "data": {
      "text/plain": [
       "<matplotlib.axes._subplots.AxesSubplot at 0x285e5da4358>"
      ]
     },
     "execution_count": 72,
     "metadata": {},
     "output_type": "execute_result"
    },
    {
     "data": {
      "image/png": "[encoded data removed]",
      "text/plain": [
       "<Figure size 1440x1440 with 2 Axes>"
      ]
     },
     "metadata": {},
     "output_type": "display_data"
    }
   ],
   "source": [
    "plt.figure(figsize=(20,20))\n",
    "\n",
    "sns.set(font_scale=1.4)\n",
    "sns.heatmap(X_train[new_features].corr().round(3),annot=True, linewidths=0.5, cmap='GnBu')"
   ]
  },
  {
   "cell_type": "markdown",
   "metadata": {},
   "source": [
    " "
   ]
  },
  {
   "cell_type": "markdown",
   "metadata": {},
   "source": [
    "Обучаем модель"
   ]
  },
  {
   "cell_type": "code",
   "execution_count": 114,
   "metadata": {},
   "outputs": [],
   "source": [
    "parameters = {'n_estimators': [200, 250, 300],\n",
    "              'max_features': np.arange(9, 11),\n",
    "              'max_depth': np.arange(8, 10)}\n",
    "\n",
    "clf = GridSearchCV(estimator=RandomForestClassifier(random_state=42),\n",
    "                   param_grid=parameters,\n",
    "                   scoring='f1',\n",
    "                   cv=4)"
   ]
  },
  {
   "cell_type": "code",
   "execution_count": 115,
   "metadata": {},
   "outputs": [
    {
     "data": {
      "text/plain": [
       "GridSearchCV(cv=4, error_score='raise-deprecating',\n",
       "       estimator=RandomForestClassifier(bootstrap=True, class_weight=None, criterion='gini',\n",
       "            max_depth=None, max_features='auto', max_leaf_nodes=None,\n",
       "            min_impurity_decrease=0.0, min_impurity_split=None,\n",
       "            min_samples_leaf=1, min_samples_split=2,\n",
       "            min_weight_fraction_leaf=0.0, n_estimators='warn', n_jobs=None,\n",
       "            oob_score=False, random_state=42, verbose=0, warm_start=False),\n",
       "       fit_params=None, iid='warn', n_jobs=None,\n",
       "       param_grid={'n_estimators': [200, 250, 300], 'max_features': array([ 9, 10]), 'max_depth': array([8, 9])},\n",
       "       pre_dispatch='2*n_jobs', refit=True, return_train_score='warn',\n",
       "       scoring='f1', verbose=0)"
      ]
     },
     "execution_count": 115,
     "metadata": {},
     "output_type": "execute_result"
    }
   ],
   "source": [
    "clf.fit(X_train[new_features], y_train)"
   ]
  },
  {
   "cell_type": "code",
   "execution_count": 116,
   "metadata": {},
   "outputs": [
    {
     "data": {
      "text/plain": [
       "{'max_depth': 9, 'max_features': 9, 'n_estimators': 250}"
      ]
     },
     "execution_count": 116,
     "metadata": {},
     "output_type": "execute_result"
    }
   ],
   "source": [
    "clf.best_params_"
   ]
  },
  {
   "cell_type": "code",
   "execution_count": 117,
   "metadata": {
    "scrolled": true
   },
   "outputs": [
    {
     "data": {
      "text/plain": [
       "RandomForestClassifier(bootstrap=True, class_weight=None, criterion='gini',\n",
       "            max_depth=9, max_features=9, max_leaf_nodes=None,\n",
       "            min_impurity_decrease=0.0, min_impurity_split=None,\n",
       "            min_samples_leaf=1, min_samples_split=2,\n",
       "            min_weight_fraction_leaf=0.0, n_estimators=250, n_jobs=None,\n",
       "            oob_score=False, random_state=None, verbose=0,\n",
       "            warm_start=False)"
      ]
     },
     "execution_count": 117,
     "metadata": {},
     "output_type": "execute_result"
    }
   ],
   "source": [
    "clf_rf = RandomForestClassifier(max_depth=9, max_features=9, n_estimators=250)\n",
    "clf_rf.fit(X_train[new_features], y_train)"
   ]
  },
  {
   "cell_type": "code",
   "execution_count": 118,
   "metadata": {},
   "outputs": [
    {
     "data": {
      "text/plain": [
       "<matplotlib.axes._subplots.AxesSubplot at 0x285e761d1d0>"
      ]
     },
     "execution_count": 118,
     "metadata": {},
     "output_type": "execute_result"
    },
    {
     "data": {
      "image/png": "[encoded data removed]",
      "text/plain": [
       "<Figure size 432x288 with 1 Axes>"
      ]
     },
     "metadata": {},
     "output_type": "display_data"
    }
   ],
   "source": [
    "sns.barplot(clf_rf.feature_importances_, X_train[new_features].columns)"
   ]
  },
  {
   "cell_type": "code",
   "execution_count": 119,
   "metadata": {},
   "outputs": [],
   "source": [
    "y_train_pred = clf_rf.predict(X_train[new_features])"
   ]
  },
  {
   "cell_type": "code",
   "execution_count": 120,
   "metadata": {},
   "outputs": [],
   "source": [
    "y_train_pred_proba = clf_rf.predict_proba(X_train[new_features])"
   ]
  },
  {
   "cell_type": "markdown",
   "metadata": {},
   "source": [
    " "
   ]
  },
  {
   "cell_type": "markdown",
   "metadata": {},
   "source": [
    "## Применение функции по изменению данных. Валидационная выборка."
   ]
  },
  {
   "cell_type": "code",
   "execution_count": 85,
   "metadata": {
    "scrolled": true
   },
   "outputs": [
    {
     "name": "stderr",
     "output_type": "stream",
     "text": [
      "D:\\Anaconda3\\lib\\site-packages\\pandas\\core\\indexing.py:543: SettingWithCopyWarning: \n",
      "A value is trying to be set on a copy of a slice from a DataFrame.\n",
      "Try using .loc[row_indexer,col_indexer] = value instead\n",
      "\n",
      "See the caveats in the documentation: http://pandas.pydata.org/pandas-docs/stable/indexing.html#indexing-view-versus-copy\n",
      "  self.obj[item] = s\n",
      "D:\\Anaconda3\\lib\\site-packages\\ipykernel_launcher.py:13: SettingWithCopyWarning: \n",
      "A value is trying to be set on a copy of a slice from a DataFrame.\n",
      "Try using .loc[row_indexer,col_indexer] = value instead\n",
      "\n",
      "See the caveats in the documentation: http://pandas.pydata.org/pandas-docs/stable/indexing.html#indexing-view-versus-copy\n",
      "  del sys.path[0]\n"
     ]
    }
   ],
   "source": [
    "modify_data(valid, median_annual_income, median_accounts, median_months_delinquent, median_years_history, median_max_credit, \n",
    "            median_current_credit_balance, median_monthly_debt, median_bankruptcies)"
   ]
  },
  {
   "cell_type": "code",
   "execution_count": 86,
   "metadata": {},
   "outputs": [],
   "source": [
    "null_credit_score = valid[valid['Credit Score'].isnull()].index\n",
    "not_null__credit_score = valid[valid['Credit Score'].notnull()].index"
   ]
  },
  {
   "cell_type": "code",
   "execution_count": 87,
   "metadata": {},
   "outputs": [
    {
     "data": {
      "text/plain": [
       "Int64Index([6079, 3858, 1386, 5290, 5098, 3900, 7073,  512, 6214, 7442,\n",
       "            ...\n",
       "            3482,  817, 3712,  722, 6761, 3214, 6369, 1139, 5918, 1271],\n",
       "           dtype='int64', length=371)"
      ]
     },
     "execution_count": 87,
     "metadata": {},
     "output_type": "execute_result"
    }
   ],
   "source": [
    "null_credit_score"
   ]
  },
  {
   "cell_type": "code",
   "execution_count": 88,
   "metadata": {},
   "outputs": [
    {
     "data": {
      "text/plain": [
       "Int64Index([6322, 5231, 5360, 3518,  921, 1315, 3123, 7097, 5846, 2596,\n",
       "            ...\n",
       "            2430, 3045, 5125, 7438, 2716, 2658, 4259, 1909, 1001, 6992],\n",
       "           dtype='int64', length=1504)"
      ]
     },
     "execution_count": 88,
     "metadata": {},
     "output_type": "execute_result"
    }
   ],
   "source": [
    "not_null__credit_score"
   ]
  },
  {
   "cell_type": "code",
   "execution_count": 89,
   "metadata": {},
   "outputs": [],
   "source": [
    "X_test_credit = valid.loc[null_credit_score, :]\n",
    "X_test_credit = X_test_credit.drop('Credit Score', axis=1)\n",
    "X_test_credit = X_test_credit[['Bankruptcies', 'Number of Credit Problems', 'Maximum Open Credit', 'Years of Credit History', 'Number of Open Accounts']]"
   ]
  },
  {
   "cell_type": "code",
   "execution_count": 90,
   "metadata": {
    "scrolled": true
   },
   "outputs": [],
   "source": [
    "y_test_credit = clf_credit.predict(X_test_credit)"
   ]
  },
  {
   "cell_type": "code",
   "execution_count": 91,
   "metadata": {
    "scrolled": false
   },
   "outputs": [
    {
     "name": "stderr",
     "output_type": "stream",
     "text": [
      "D:\\Anaconda3\\lib\\site-packages\\pandas\\core\\indexing.py:543: SettingWithCopyWarning: \n",
      "A value is trying to be set on a copy of a slice from a DataFrame.\n",
      "Try using .loc[row_indexer,col_indexer] = value instead\n",
      "\n",
      "See the caveats in the documentation: http://pandas.pydata.org/pandas-docs/stable/indexing.html#indexing-view-versus-copy\n",
      "  self.obj[item] = s\n"
     ]
    }
   ],
   "source": [
    "valid.loc[null_credit_score, 'Credit Score'] = y_test_credit"
   ]
  },
  {
   "cell_type": "code",
   "execution_count": 92,
   "metadata": {},
   "outputs": [],
   "source": [
    "y_valid = valid['Credit Default']\n",
    "X_valid = valid[features]"
   ]
  },
  {
   "cell_type": "code",
   "execution_count": 93,
   "metadata": {
    "scrolled": true
   },
   "outputs": [
    {
     "name": "stdout",
     "output_type": "stream",
     "text": [
      "<class 'pandas.core.frame.DataFrame'>\n",
      "Int64Index: 1875 entries, 6079 to 6992\n",
      "Data columns (total 11 columns):\n",
      "Tax Liens                    1875 non-null float64\n",
      "Number of Open Accounts      1875 non-null float64\n",
      "Years of Credit History      1875 non-null float64\n",
      "Maximum Open Credit          1875 non-null float64\n",
      "Number of Credit Problems    1875 non-null float64\n",
      "Bankruptcies                 1875 non-null float64\n",
      "Current Loan Amount          1875 non-null float64\n",
      "Current Credit Balance       1875 non-null float64\n",
      "Monthly Debt                 1875 non-null float64\n",
      "Short Term                   1875 non-null int32\n",
      "Credit Score                 1875 non-null float64\n",
      "dtypes: float64(10), int32(1)\n",
      "memory usage: 248.5 KB\n"
     ]
    }
   ],
   "source": [
    "X_valid.info()"
   ]
  },
  {
   "cell_type": "code",
   "execution_count": 94,
   "metadata": {},
   "outputs": [
    {
     "data": {
      "text/plain": [
       "0    1341\n",
       "1     534\n",
       "Name: Credit Default, dtype: int64"
      ]
     },
     "execution_count": 94,
     "metadata": {},
     "output_type": "execute_result"
    }
   ],
   "source": [
    "valid['Credit Default'].value_counts()"
   ]
  },
  {
   "cell_type": "code",
   "execution_count": 95,
   "metadata": {
    "scrolled": false
   },
   "outputs": [
    {
     "data": {
      "text/html": [
       "<div>\n",
       "<style scoped>\n",
       "    .dataframe tbody tr th:only-of-type {\n",
       "        vertical-align: middle;\n",
       "    }\n",
       "\n",
       "    .dataframe tbody tr th {\n",
       "        vertical-align: top;\n",
       "    }\n",
       "\n",
       "    .dataframe thead th {\n",
       "        text-align: right;\n",
       "    }\n",
       "</style>\n",
       "<table border=\"1\" class=\"dataframe\">\n",
       "  <thead>\n",
       "    <tr style=\"text-align: right;\">\n",
       "      <th></th>\n",
       "      <th>Tax Liens</th>\n",
       "      <th>Number of Open Accounts</th>\n",
       "      <th>Years of Credit History</th>\n",
       "      <th>Maximum Open Credit</th>\n",
       "      <th>Number of Credit Problems</th>\n",
       "      <th>Bankruptcies</th>\n",
       "      <th>Current Loan Amount</th>\n",
       "      <th>Current Credit Balance</th>\n",
       "      <th>Monthly Debt</th>\n",
       "      <th>Short Term</th>\n",
       "      <th>Credit Score</th>\n",
       "    </tr>\n",
       "  </thead>\n",
       "  <tbody>\n",
       "    <tr>\n",
       "      <th>count</th>\n",
       "      <td>1875.000000</td>\n",
       "      <td>1875.000000</td>\n",
       "      <td>1875.000000</td>\n",
       "      <td>1.875000e+03</td>\n",
       "      <td>1875.000000</td>\n",
       "      <td>1875.000000</td>\n",
       "      <td>1.875000e+03</td>\n",
       "      <td>1.875000e+03</td>\n",
       "      <td>1875.000000</td>\n",
       "      <td>1875.000000</td>\n",
       "      <td>1875.000000</td>\n",
       "    </tr>\n",
       "    <tr>\n",
       "      <th>mean</th>\n",
       "      <td>0.030400</td>\n",
       "      <td>11.002667</td>\n",
       "      <td>18.182240</td>\n",
       "      <td>6.438912e+05</td>\n",
       "      <td>0.181867</td>\n",
       "      <td>0.129067</td>\n",
       "      <td>1.215993e+07</td>\n",
       "      <td>2.870049e+05</td>\n",
       "      <td>17923.126400</td>\n",
       "      <td>0.741333</td>\n",
       "      <td>1145.619697</td>\n",
       "    </tr>\n",
       "    <tr>\n",
       "      <th>std</th>\n",
       "      <td>0.291527</td>\n",
       "      <td>4.669378</td>\n",
       "      <td>6.745487</td>\n",
       "      <td>6.812635e+05</td>\n",
       "      <td>0.527263</td>\n",
       "      <td>0.377294</td>\n",
       "      <td>3.228209e+07</td>\n",
       "      <td>2.916500e+05</td>\n",
       "      <td>10873.679247</td>\n",
       "      <td>0.438019</td>\n",
       "      <td>1426.287963</td>\n",
       "    </tr>\n",
       "    <tr>\n",
       "      <th>min</th>\n",
       "      <td>0.000000</td>\n",
       "      <td>2.000000</td>\n",
       "      <td>5.000000</td>\n",
       "      <td>0.000000e+00</td>\n",
       "      <td>0.000000</td>\n",
       "      <td>0.000000</td>\n",
       "      <td>1.124200e+04</td>\n",
       "      <td>0.000000e+00</td>\n",
       "      <td>0.000000</td>\n",
       "      <td>0.000000</td>\n",
       "      <td>588.000000</td>\n",
       "    </tr>\n",
       "    <tr>\n",
       "      <th>25%</th>\n",
       "      <td>0.000000</td>\n",
       "      <td>8.000000</td>\n",
       "      <td>13.500000</td>\n",
       "      <td>2.766940e+05</td>\n",
       "      <td>0.000000</td>\n",
       "      <td>0.000000</td>\n",
       "      <td>1.783320e+05</td>\n",
       "      <td>1.151210e+05</td>\n",
       "      <td>10198.500000</td>\n",
       "      <td>0.000000</td>\n",
       "      <td>718.000000</td>\n",
       "    </tr>\n",
       "    <tr>\n",
       "      <th>50%</th>\n",
       "      <td>0.000000</td>\n",
       "      <td>10.000000</td>\n",
       "      <td>17.000000</td>\n",
       "      <td>4.711300e+05</td>\n",
       "      <td>0.000000</td>\n",
       "      <td>0.000000</td>\n",
       "      <td>3.021480e+05</td>\n",
       "      <td>2.095130e+05</td>\n",
       "      <td>15960.000000</td>\n",
       "      <td>1.000000</td>\n",
       "      <td>738.000000</td>\n",
       "    </tr>\n",
       "    <tr>\n",
       "      <th>75%</th>\n",
       "      <td>0.000000</td>\n",
       "      <td>14.000000</td>\n",
       "      <td>21.900000</td>\n",
       "      <td>7.888540e+05</td>\n",
       "      <td>0.000000</td>\n",
       "      <td>0.000000</td>\n",
       "      <td>4.986630e+05</td>\n",
       "      <td>3.577795e+05</td>\n",
       "      <td>23419.000000</td>\n",
       "      <td>1.000000</td>\n",
       "      <td>828.698377</td>\n",
       "    </tr>\n",
       "    <tr>\n",
       "      <th>max</th>\n",
       "      <td>7.000000</td>\n",
       "      <td>30.000000</td>\n",
       "      <td>44.700000</td>\n",
       "      <td>9.339924e+06</td>\n",
       "      <td>7.000000</td>\n",
       "      <td>4.000000</td>\n",
       "      <td>1.000000e+08</td>\n",
       "      <td>2.759503e+06</td>\n",
       "      <td>65167.000000</td>\n",
       "      <td>1.000000</td>\n",
       "      <td>7510.000000</td>\n",
       "    </tr>\n",
       "  </tbody>\n",
       "</table>\n",
       "</div>"
      ],
      "text/plain": [
       "         Tax Liens  Number of Open Accounts  Years of Credit History  \\\n",
       "count  1875.000000              1875.000000              1875.000000   \n",
       "mean      0.030400                11.002667                18.182240   \n",
       "std       0.291527                 4.669378                 6.745487   \n",
       "min       0.000000                 2.000000                 5.000000   \n",
       "25%       0.000000                 8.000000                13.500000   \n",
       "50%       0.000000                10.000000                17.000000   \n",
       "75%       0.000000                14.000000                21.900000   \n",
       "max       7.000000                30.000000                44.700000   \n",
       "\n",
       "       Maximum Open Credit  Number of Credit Problems  Bankruptcies  \\\n",
       "count         1.875000e+03                1875.000000   1875.000000   \n",
       "mean          6.438912e+05                   0.181867      0.129067   \n",
       "std           6.812635e+05                   0.527263      0.377294   \n",
       "min           0.000000e+00                   0.000000      0.000000   \n",
       "25%           2.766940e+05                   0.000000      0.000000   \n",
       "50%           4.711300e+05                   0.000000      0.000000   \n",
       "75%           7.888540e+05                   0.000000      0.000000   \n",
       "max           9.339924e+06                   7.000000      4.000000   \n",
       "\n",
       "       Current Loan Amount  Current Credit Balance  Monthly Debt   Short Term  \\\n",
       "count         1.875000e+03            1.875000e+03   1875.000000  1875.000000   \n",
       "mean          1.215993e+07            2.870049e+05  17923.126400     0.741333   \n",
       "std           3.228209e+07            2.916500e+05  10873.679247     0.438019   \n",
       "min           1.124200e+04            0.000000e+00      0.000000     0.000000   \n",
       "25%           1.783320e+05            1.151210e+05  10198.500000     0.000000   \n",
       "50%           3.021480e+05            2.095130e+05  15960.000000     1.000000   \n",
       "75%           4.986630e+05            3.577795e+05  23419.000000     1.000000   \n",
       "max           1.000000e+08            2.759503e+06  65167.000000     1.000000   \n",
       "\n",
       "       Credit Score  \n",
       "count   1875.000000  \n",
       "mean    1145.619697  \n",
       "std     1426.287963  \n",
       "min      588.000000  \n",
       "25%      718.000000  \n",
       "50%      738.000000  \n",
       "75%      828.698377  \n",
       "max     7510.000000  "
      ]
     },
     "execution_count": 95,
     "metadata": {},
     "output_type": "execute_result"
    }
   ],
   "source": [
    "X_valid.describe()"
   ]
  },
  {
   "cell_type": "code",
   "execution_count": 96,
   "metadata": {},
   "outputs": [],
   "source": [
    "X_valid = pd.DataFrame(scaler.transform(X_valid), columns=features)"
   ]
  },
  {
   "cell_type": "code",
   "execution_count": 97,
   "metadata": {},
   "outputs": [],
   "source": [
    "X_valid['Bankruptcies - Number of Problems'] = pca_1.transform(X_valid[['Bankruptcies', 'Number of Credit Problems']])"
   ]
  },
  {
   "cell_type": "code",
   "execution_count": 98,
   "metadata": {},
   "outputs": [],
   "source": [
    "X_valid['Maximum Open Credit - Current Cr Balance'] = pca_2.transform(X_valid[['Maximum Open Credit', 'Current Credit Balance']])"
   ]
  },
  {
   "cell_type": "markdown",
   "metadata": {},
   "source": [
    "Работа с кластерами"
   ]
  },
  {
   "cell_type": "code",
   "execution_count": 99,
   "metadata": {},
   "outputs": [],
   "source": [
    "X_valid[cluster_name] = knn.predict(X_valid[cluster_feauters])"
   ]
  },
  {
   "cell_type": "code",
   "execution_count": 100,
   "metadata": {},
   "outputs": [],
   "source": [
    "X_valid[cluster_name] = X_valid[cluster_name].astype(object)\n",
    "X_valid = pd.get_dummies(X_valid)"
   ]
  },
  {
   "cell_type": "code",
   "execution_count": 101,
   "metadata": {},
   "outputs": [],
   "source": [
    "X_valid['Tax Liens - Tax Liens Credit Score_0'] = pca_3.transform(X_valid[['Tax Liens', 'Tax Liens Credit Score_0']])"
   ]
  },
  {
   "cell_type": "code",
   "execution_count": 102,
   "metadata": {},
   "outputs": [],
   "source": [
    "X_valid['Credit Score - Tax Liens Credit Score_1'] = pca_4.transform(X_valid[['Credit Score', 'Tax Liens Credit Score_1']])"
   ]
  },
  {
   "cell_type": "code",
   "execution_count": 103,
   "metadata": {},
   "outputs": [],
   "source": [
    "X_valid['Tax Liens Credit Score_2 - Tax Liens Credit Score_3'] = pca_5.transform(X_valid[['Tax Liens Credit Score_2', 'Tax Liens Credit Score_3']])"
   ]
  },
  {
   "cell_type": "markdown",
   "metadata": {},
   "source": [
    " "
   ]
  },
  {
   "cell_type": "markdown",
   "metadata": {},
   "source": [
    "Предсказание"
   ]
  },
  {
   "cell_type": "code",
   "execution_count": 121,
   "metadata": {
    "scrolled": false
   },
   "outputs": [
    {
     "data": {
      "text/plain": [
       "0    1447\n",
       "1     428\n",
       "Name: 0, dtype: int64"
      ]
     },
     "execution_count": 121,
     "metadata": {},
     "output_type": "execute_result"
    }
   ],
   "source": [
    "y_valid_pred = clf_rf.predict(X_valid[new_features])\n",
    "pd.DataFrame(y_valid_pred)[0].value_counts()"
   ]
  },
  {
   "cell_type": "code",
   "execution_count": 122,
   "metadata": {},
   "outputs": [],
   "source": [
    "y_valid_pred_proba = clf_rf.predict_proba(X_valid[new_features])"
   ]
  },
  {
   "cell_type": "code",
   "execution_count": 123,
   "metadata": {
    "scrolled": false
   },
   "outputs": [
    {
     "name": "stdout",
     "output_type": "stream",
     "text": [
      "TRAIN\n",
      "\n",
      "              precision    recall  f1-score   support\n",
      "\n",
      "           0       0.75      0.92      0.83      4046\n",
      "           1       0.86      0.61      0.72      3158\n",
      "\n",
      "   micro avg       0.79      0.79      0.79      7204\n",
      "   macro avg       0.81      0.77      0.77      7204\n",
      "weighted avg       0.80      0.79      0.78      7204\n",
      "\n",
      "TEST\n",
      "\n",
      "              precision    recall  f1-score   support\n",
      "\n",
      "           0       0.80      0.86      0.83      1341\n",
      "           1       0.57      0.45      0.50       534\n",
      "\n",
      "   micro avg       0.75      0.75      0.75      1875\n",
      "   macro avg       0.68      0.66      0.67      1875\n",
      "weighted avg       0.73      0.75      0.74      1875\n",
      "\n",
      "CONFUSION MATRIX\n",
      "\n",
      "col_0              0    1\n",
      "Credit Default           \n",
      "0               1155  186\n",
      "1                292  242\n"
     ]
    }
   ],
   "source": [
    "get_classification_report(y_train, y_train_pred, y_valid, y_valid_pred)"
   ]
  },
  {
   "cell_type": "code",
   "execution_count": 124,
   "metadata": {},
   "outputs": [
    {
     "data": {
      "image/png": "[encoded data removed]",
      "text/plain": [
       "<Figure size 432x288 with 1 Axes>"
      ]
     },
     "metadata": {},
     "output_type": "display_data"
    }
   ],
   "source": [
    "show_proba_calibration(y_valid_pred_proba[:,1], y_valid, 0.464, 0.465)"
   ]
  },
  {
   "cell_type": "code",
   "execution_count": 125,
   "metadata": {},
   "outputs": [
    {
     "data": {
      "text/plain": [
       "0    1341\n",
       "1     534\n",
       "Name: 0, dtype: int64"
      ]
     },
     "execution_count": 125,
     "metadata": {},
     "output_type": "execute_result"
    }
   ],
   "source": [
    "y_p = np.array((y_valid_pred_proba[:,1] > 0.4648).astype('int'))\n",
    "pd.DataFrame(y_p)[0].value_counts()"
   ]
  },
  {
   "cell_type": "code",
   "execution_count": 126,
   "metadata": {
    "scrolled": false
   },
   "outputs": [
    {
     "name": "stdout",
     "output_type": "stream",
     "text": [
      "TRAIN\n",
      "\n",
      "              precision    recall  f1-score   support\n",
      "\n",
      "           0       0.75      0.92      0.83      4046\n",
      "           1       0.86      0.61      0.72      3158\n",
      "\n",
      "   micro avg       0.79      0.79      0.79      7204\n",
      "   macro avg       0.81      0.77      0.77      7204\n",
      "weighted avg       0.80      0.79      0.78      7204\n",
      "\n",
      "TEST\n",
      "\n",
      "              precision    recall  f1-score   support\n",
      "\n",
      "           0       0.81      0.81      0.81      1341\n",
      "           1       0.52      0.52      0.52       534\n",
      "\n",
      "   micro avg       0.72      0.72      0.72      1875\n",
      "   macro avg       0.66      0.66      0.66      1875\n",
      "weighted avg       0.72      0.72      0.72      1875\n",
      "\n",
      "CONFUSION MATRIX\n",
      "\n",
      "col_0              0    1\n",
      "Credit Default           \n",
      "0               1083  258\n",
      "1                258  276\n"
     ]
    }
   ],
   "source": [
    "get_classification_report(y_train, y_train_pred, y_valid, y_p)"
   ]
  },
  {
   "cell_type": "markdown",
   "metadata": {},
   "source": [
    " "
   ]
  },
  {
   "cell_type": "markdown",
   "metadata": {},
   "source": [
    "## Обучаем итоговую модель на изначальной выборке"
   ]
  },
  {
   "cell_type": "code",
   "execution_count": 127,
   "metadata": {},
   "outputs": [],
   "source": [
    "modify_data(data, median_annual_income, median_accounts, median_months_delinquent, median_years_history, median_max_credit, \n",
    "            median_current_credit_balance, median_monthly_debt, median_bankruptcies)"
   ]
  },
  {
   "cell_type": "code",
   "execution_count": 128,
   "metadata": {},
   "outputs": [],
   "source": [
    "null_credit_score = data[data['Credit Score'].isnull()].index\n",
    "not_null__credit_score = data[data['Credit Score'].notnull()].index"
   ]
  },
  {
   "cell_type": "code",
   "execution_count": 129,
   "metadata": {},
   "outputs": [
    {
     "data": {
      "text/plain": [
       "Int64Index([   5,    8,    9,   10,   16,   23,   24,   29,   33,   35,\n",
       "            ...\n",
       "            7442, 7451, 7453, 7459, 7470, 7482, 7492, 7494, 7498, 7499],\n",
       "           dtype='int64', length=1557)"
      ]
     },
     "execution_count": 129,
     "metadata": {},
     "output_type": "execute_result"
    }
   ],
   "source": [
    "null_credit_score"
   ]
  },
  {
   "cell_type": "code",
   "execution_count": 130,
   "metadata": {},
   "outputs": [
    {
     "data": {
      "text/plain": [
       "Int64Index([   0,    1,    2,    3,    4,    6,    7,   11,   12,   13,\n",
       "            ...\n",
       "            7486, 7487, 7488, 7489, 7490, 7491, 7493, 7495, 7496, 7497],\n",
       "           dtype='int64', length=5943)"
      ]
     },
     "execution_count": 130,
     "metadata": {},
     "output_type": "execute_result"
    }
   ],
   "source": [
    "not_null__credit_score"
   ]
  },
  {
   "cell_type": "code",
   "execution_count": 131,
   "metadata": {},
   "outputs": [],
   "source": [
    "y_train_credit = data.loc[not_null__credit_score, :]\n",
    "y_train_credit = y_train_credit['Credit Score']\n",
    "X_train_credit = data.loc[not_null__credit_score, :]\n",
    "X_train_credit = X_train_credit.drop('Credit Score', axis=1)\n",
    "X_train_credit = X_train_credit[['Bankruptcies', 'Number of Credit Problems', 'Maximum Open Credit', 'Years of Credit History', 'Number of Open Accounts']]"
   ]
  },
  {
   "cell_type": "code",
   "execution_count": 132,
   "metadata": {},
   "outputs": [
    {
     "data": {
      "text/plain": [
       "RandomForestRegressor(bootstrap=True, criterion='mse', max_depth=7,\n",
       "           max_features=3, max_leaf_nodes=None, min_impurity_decrease=0.0,\n",
       "           min_impurity_split=None, min_samples_leaf=1,\n",
       "           min_samples_split=2, min_weight_fraction_leaf=0.0,\n",
       "           n_estimators=250, n_jobs=None, oob_score=False,\n",
       "           random_state=None, verbose=0, warm_start=False)"
      ]
     },
     "execution_count": 132,
     "metadata": {},
     "output_type": "execute_result"
    }
   ],
   "source": [
    "clf_credit = RandomForestRegressor(max_depth=7, max_features=3, n_estimators=250)\n",
    "clf_credit.fit(X_train_credit, y_train_credit)"
   ]
  },
  {
   "cell_type": "code",
   "execution_count": 133,
   "metadata": {},
   "outputs": [],
   "source": [
    "X_test_credit = data.loc[null_credit_score, :]\n",
    "X_test_credit = X_test_credit.drop('Credit Score', axis=1)\n",
    "X_test_credit = X_test_credit[['Bankruptcies', 'Number of Credit Problems', 'Maximum Open Credit', 'Years of Credit History', 'Number of Open Accounts']]"
   ]
  },
  {
   "cell_type": "code",
   "execution_count": 134,
   "metadata": {
    "scrolled": true
   },
   "outputs": [
    {
     "data": {
      "text/plain": [
       "array([1294.50320376, 2056.78254785, 1098.80982475, ..., 1209.44267408,\n",
       "        969.90613854, 1345.92272385])"
      ]
     },
     "execution_count": 134,
     "metadata": {},
     "output_type": "execute_result"
    }
   ],
   "source": [
    "y_test_credit = clf_credit.predict(X_test_credit)\n",
    "y_test_credit"
   ]
  },
  {
   "cell_type": "code",
   "execution_count": 135,
   "metadata": {
    "scrolled": true
   },
   "outputs": [],
   "source": [
    "data.loc[null_credit_score, 'Credit Score'] = y_test_credit"
   ]
  },
  {
   "cell_type": "code",
   "execution_count": 136,
   "metadata": {
    "scrolled": true
   },
   "outputs": [
    {
     "name": "stderr",
     "output_type": "stream",
     "text": [
      "D:\\Anaconda3\\lib\\site-packages\\ipykernel_launcher.py:5: FutureWarning: \n",
      "The current behaviour of 'Series.argmax' is deprecated, use 'idxmax'\n",
      "instead.\n",
      "The behavior of 'argmax' will be corrected to return the positional\n",
      "maximum in the future. For now, use 'series.values.argmax' or\n",
      "'np.argmax(np.array(values))' to get the position of the maximum\n",
      "row.\n",
      "  \"\"\"\n",
      "D:\\Anaconda3\\lib\\site-packages\\ipykernel_launcher.py:6: FutureWarning: \n",
      "The current behaviour of 'Series.argmin' is deprecated, use 'idxmin'\n",
      "instead.\n",
      "The behavior of 'argmin' will be corrected to return the positional\n",
      "minimum in the future. For now, use 'series.values.argmin' or\n",
      "'np.argmin(np.array(values))' to get the position of the minimum\n",
      "row.\n",
      "  \n"
     ]
    }
   ],
   "source": [
    "data = get_balance(data, 'Credit Default')"
   ]
  },
  {
   "cell_type": "code",
   "execution_count": 137,
   "metadata": {},
   "outputs": [
    {
     "data": {
      "text/plain": [
       "0    5387\n",
       "1    4226\n",
       "Name: Credit Default, dtype: int64"
      ]
     },
     "execution_count": 137,
     "metadata": {},
     "output_type": "execute_result"
    }
   ],
   "source": [
    "data['Credit Default'].value_counts()"
   ]
  },
  {
   "cell_type": "code",
   "execution_count": 138,
   "metadata": {},
   "outputs": [],
   "source": [
    "y = data['Credit Default']\n",
    "X = data[features]"
   ]
  },
  {
   "cell_type": "code",
   "execution_count": 139,
   "metadata": {
    "scrolled": true
   },
   "outputs": [
    {
     "name": "stderr",
     "output_type": "stream",
     "text": [
      "D:\\Anaconda3\\lib\\site-packages\\sklearn\\preprocessing\\data.py:334: DataConversionWarning: Data with input dtype int32, float64 were all converted to float64 by MinMaxScaler.\n",
      "  return self.partial_fit(X, y)\n"
     ]
    }
   ],
   "source": [
    "scaler = MinMaxScaler()\n",
    "X = pd.DataFrame(scaler.fit_transform(X), columns=features)"
   ]
  },
  {
   "cell_type": "code",
   "execution_count": 140,
   "metadata": {},
   "outputs": [],
   "source": [
    "pca_1 = PCA(n_components=1, random_state=31)\n",
    "X['Bankruptcies - Number of Problems'] = pca_1.fit_transform(X[['Bankruptcies', 'Number of Credit Problems']])"
   ]
  },
  {
   "cell_type": "code",
   "execution_count": 141,
   "metadata": {},
   "outputs": [],
   "source": [
    "pca_2 = PCA(n_components=1, random_state=31)\n",
    "X['Maximum Open Credit - Current Cr Balance'] = pca_2.fit_transform(X[['Maximum Open Credit', 'Current Credit Balance']])"
   ]
  },
  {
   "cell_type": "markdown",
   "metadata": {},
   "source": [
    "Создаем кластеры"
   ]
  },
  {
   "cell_type": "code",
   "execution_count": 142,
   "metadata": {},
   "outputs": [
    {
     "data": {
      "text/plain": [
       "array([2, 0, 0, ..., 0, 0, 0])"
      ]
     },
     "execution_count": 142,
     "metadata": {},
     "output_type": "execute_result"
    }
   ],
   "source": [
    "model = KMeans(n_clusters=4, random_state=42)\n",
    "labels = model.fit_predict(X[cluster_feauters])\n",
    "labels"
   ]
  },
  {
   "cell_type": "code",
   "execution_count": 143,
   "metadata": {},
   "outputs": [],
   "source": [
    "model = AgglomerativeClustering(n_clusters=4)\n",
    "X[cluster_name] = model.fit_predict(X[cluster_feauters])"
   ]
  },
  {
   "cell_type": "code",
   "execution_count": 144,
   "metadata": {},
   "outputs": [
    {
     "data": {
      "text/plain": [
       "KNeighborsClassifier(algorithm='auto', leaf_size=30, metric='minkowski',\n",
       "           metric_params=None, n_jobs=None, n_neighbors=4, p=2,\n",
       "           weights='uniform')"
      ]
     },
     "execution_count": 144,
     "metadata": {},
     "output_type": "execute_result"
    }
   ],
   "source": [
    "knn = KNeighborsClassifier(n_neighbors=4)\n",
    "knn.fit(X[cluster_feauters], X[cluster_name])"
   ]
  },
  {
   "cell_type": "code",
   "execution_count": 145,
   "metadata": {},
   "outputs": [],
   "source": [
    "X[cluster_name] = X[cluster_name].astype(object)\n",
    "X = pd.get_dummies(X)"
   ]
  },
  {
   "cell_type": "code",
   "execution_count": 146,
   "metadata": {},
   "outputs": [],
   "source": [
    "pca_3 = PCA(n_components=1, random_state=31)\n",
    "X['Tax Liens - Tax Liens Credit Score_0'] = pca_3.fit_transform(X[['Tax Liens', 'Tax Liens Credit Score_0']])"
   ]
  },
  {
   "cell_type": "code",
   "execution_count": 147,
   "metadata": {},
   "outputs": [],
   "source": [
    "pca_4 = PCA(n_components=1, random_state=31)\n",
    "X['Credit Score - Tax Liens Credit Score_1'] = pca_4.fit_transform(X[['Credit Score', 'Tax Liens Credit Score_1']])"
   ]
  },
  {
   "cell_type": "code",
   "execution_count": 148,
   "metadata": {},
   "outputs": [],
   "source": [
    "pca_5 = PCA(n_components=1, random_state=31)\n",
    "X['Tax Liens Credit Score_2 - Tax Liens Credit Score_3'] = pca_5.fit_transform(X[['Tax Liens Credit Score_2', 'Tax Liens Credit Score_3']])"
   ]
  },
  {
   "cell_type": "code",
   "execution_count": 150,
   "metadata": {
    "scrolled": true
   },
   "outputs": [
    {
     "data": {
      "text/plain": [
       "RandomForestClassifier(bootstrap=True, class_weight=None, criterion='gini',\n",
       "            max_depth=9, max_features=9, max_leaf_nodes=None,\n",
       "            min_impurity_decrease=0.0, min_impurity_split=None,\n",
       "            min_samples_leaf=1, min_samples_split=2,\n",
       "            min_weight_fraction_leaf=0.0, n_estimators=250, n_jobs=None,\n",
       "            oob_score=False, random_state=None, verbose=0,\n",
       "            warm_start=False)"
      ]
     },
     "execution_count": 150,
     "metadata": {},
     "output_type": "execute_result"
    }
   ],
   "source": [
    "clf_rf = RandomForestClassifier(max_depth=9, max_features=9, n_estimators=250)\n",
    "clf_rf.fit(X, y)"
   ]
  },
  {
   "cell_type": "markdown",
   "metadata": {},
   "source": [
    "## Подготовка тестого датасета и предсказание значений."
   ]
  },
  {
   "cell_type": "code",
   "execution_count": 151,
   "metadata": {},
   "outputs": [],
   "source": [
    "modify_data(X_test, median_annual_income, median_accounts, median_months_delinquent, median_years_history, median_max_credit, \n",
    "            median_current_credit_balance, median_monthly_debt, median_bankruptcies)"
   ]
  },
  {
   "cell_type": "code",
   "execution_count": 152,
   "metadata": {},
   "outputs": [],
   "source": [
    "null_credit_score = X_test[X_test['Credit Score'].isnull()].index\n",
    "not_null__credit_score = X_test[X_test['Credit Score'].notnull()].index"
   ]
  },
  {
   "cell_type": "code",
   "execution_count": 153,
   "metadata": {},
   "outputs": [
    {
     "data": {
      "text/plain": [
       "Int64Index([   0,    8,   16,   20,   27,   31,   35,   37,   38,   42,\n",
       "            ...\n",
       "            2443, 2448, 2458, 2462, 2465, 2469, 2475, 2479, 2487, 2496],\n",
       "           dtype='int64', length=513)"
      ]
     },
     "execution_count": 153,
     "metadata": {},
     "output_type": "execute_result"
    }
   ],
   "source": [
    "null_credit_score"
   ]
  },
  {
   "cell_type": "code",
   "execution_count": 154,
   "metadata": {},
   "outputs": [
    {
     "data": {
      "text/plain": [
       "Int64Index([   1,    2,    3,    4,    5,    6,    7,    9,   10,   11,\n",
       "            ...\n",
       "            2489, 2490, 2491, 2492, 2493, 2494, 2495, 2497, 2498, 2499],\n",
       "           dtype='int64', length=1987)"
      ]
     },
     "execution_count": 154,
     "metadata": {},
     "output_type": "execute_result"
    }
   ],
   "source": [
    "not_null__credit_score"
   ]
  },
  {
   "cell_type": "code",
   "execution_count": 155,
   "metadata": {},
   "outputs": [],
   "source": [
    "X_test_credit = X_test.loc[null_credit_score, :]\n",
    "X_test_credit = X_test_credit.drop('Credit Score', axis=1)\n",
    "X_test_credit = X_test_credit[['Bankruptcies', 'Number of Credit Problems', 'Maximum Open Credit', 'Years of Credit History', 'Number of Open Accounts']]"
   ]
  },
  {
   "cell_type": "code",
   "execution_count": 156,
   "metadata": {
    "scrolled": true
   },
   "outputs": [],
   "source": [
    "y_test_credit = clf_credit.predict(X_test_credit)"
   ]
  },
  {
   "cell_type": "code",
   "execution_count": 157,
   "metadata": {
    "scrolled": true
   },
   "outputs": [],
   "source": [
    "X_test.loc[null_credit_score, 'Credit Score'] = y_test_credit"
   ]
  },
  {
   "cell_type": "code",
   "execution_count": 158,
   "metadata": {},
   "outputs": [],
   "source": [
    "X_test = X_test[features]"
   ]
  },
  {
   "cell_type": "code",
   "execution_count": 159,
   "metadata": {},
   "outputs": [],
   "source": [
    "X_test = pd.DataFrame(scaler.transform(X_test), columns=features)"
   ]
  },
  {
   "cell_type": "code",
   "execution_count": null,
   "metadata": {},
   "outputs": [],
   "source": []
  },
  {
   "cell_type": "code",
   "execution_count": 160,
   "metadata": {},
   "outputs": [],
   "source": [
    "X_test['Bankruptcies - Number of Problems'] = pca_1.transform(X_test[['Bankruptcies', 'Number of Credit Problems']])"
   ]
  },
  {
   "cell_type": "code",
   "execution_count": 161,
   "metadata": {},
   "outputs": [],
   "source": [
    "X_test['Maximum Open Credit - Current Cr Balance'] = pca_2.transform(X_test[['Maximum Open Credit', 'Current Credit Balance']])"
   ]
  },
  {
   "cell_type": "markdown",
   "metadata": {},
   "source": [
    "Работа с кластерами"
   ]
  },
  {
   "cell_type": "code",
   "execution_count": 162,
   "metadata": {},
   "outputs": [],
   "source": [
    "X_test[cluster_name] = knn.predict(X_test[cluster_feauters])"
   ]
  },
  {
   "cell_type": "code",
   "execution_count": 163,
   "metadata": {},
   "outputs": [],
   "source": [
    "X_test[cluster_name] = X_test[cluster_name].astype(object)\n",
    "X_test = pd.get_dummies(X_test)"
   ]
  },
  {
   "cell_type": "code",
   "execution_count": 164,
   "metadata": {},
   "outputs": [],
   "source": [
    "X_test['Tax Liens - Tax Liens Credit Score_0'] = pca_3.transform(X_test[['Tax Liens', 'Tax Liens Credit Score_0']])"
   ]
  },
  {
   "cell_type": "code",
   "execution_count": 165,
   "metadata": {},
   "outputs": [],
   "source": [
    "X_test['Credit Score - Tax Liens Credit Score_1'] = pca_4.transform(X_test[['Credit Score', 'Tax Liens Credit Score_1']])"
   ]
  },
  {
   "cell_type": "code",
   "execution_count": 166,
   "metadata": {},
   "outputs": [],
   "source": [
    "X_test['Tax Liens Credit Score_2 - Tax Liens Credit Score_3'] = pca_5.transform(X_test[['Tax Liens Credit Score_2', 'Tax Liens Credit Score_3']])"
   ]
  },
  {
   "cell_type": "code",
   "execution_count": 167,
   "metadata": {},
   "outputs": [],
   "source": [
    "y_test = clf_rf.predict(X_test)"
   ]
  },
  {
   "cell_type": "code",
   "execution_count": 168,
   "metadata": {},
   "outputs": [],
   "source": [
    "y_test_proba = clf_rf.predict_proba(X_test)"
   ]
  },
  {
   "cell_type": "code",
   "execution_count": 169,
   "metadata": {},
   "outputs": [],
   "source": [
    "y_test = np.array((y_valid_pred_proba[:,1] > 0.4648).astype('int'))"
   ]
  },
  {
   "cell_type": "code",
   "execution_count": 170,
   "metadata": {},
   "outputs": [],
   "source": [
    "y_test = pd.DataFrame(y_test, columns=['Credit Default'])"
   ]
  },
  {
   "cell_type": "code",
   "execution_count": 171,
   "metadata": {},
   "outputs": [
    {
     "data": {
      "text/html": [
       "<div>\n",
       "<style scoped>\n",
       "    .dataframe tbody tr th:only-of-type {\n",
       "        vertical-align: middle;\n",
       "    }\n",
       "\n",
       "    .dataframe tbody tr th {\n",
       "        vertical-align: top;\n",
       "    }\n",
       "\n",
       "    .dataframe thead th {\n",
       "        text-align: right;\n",
       "    }\n",
       "</style>\n",
       "<table border=\"1\" class=\"dataframe\">\n",
       "  <thead>\n",
       "    <tr style=\"text-align: right;\">\n",
       "      <th></th>\n",
       "      <th>Credit Default</th>\n",
       "    </tr>\n",
       "  </thead>\n",
       "  <tbody>\n",
       "    <tr>\n",
       "      <th>0</th>\n",
       "      <td>0</td>\n",
       "    </tr>\n",
       "    <tr>\n",
       "      <th>1</th>\n",
       "      <td>0</td>\n",
       "    </tr>\n",
       "    <tr>\n",
       "      <th>2</th>\n",
       "      <td>1</td>\n",
       "    </tr>\n",
       "    <tr>\n",
       "      <th>3</th>\n",
       "      <td>0</td>\n",
       "    </tr>\n",
       "    <tr>\n",
       "      <th>4</th>\n",
       "      <td>0</td>\n",
       "    </tr>\n",
       "  </tbody>\n",
       "</table>\n",
       "</div>"
      ],
      "text/plain": [
       "   Credit Default\n",
       "0               0\n",
       "1               0\n",
       "2               1\n",
       "3               0\n",
       "4               0"
      ]
     },
     "execution_count": 171,
     "metadata": {},
     "output_type": "execute_result"
    }
   ],
   "source": [
    "y_test.head()"
   ]
  },
  {
   "cell_type": "code",
   "execution_count": 172,
   "metadata": {},
   "outputs": [
    {
     "data": {
      "text/plain": [
       "0    1341\n",
       "1     534\n",
       "Name: Credit Default, dtype: int64"
      ]
     },
     "execution_count": 172,
     "metadata": {},
     "output_type": "execute_result"
    }
   ],
   "source": [
    "y_test['Credit Default'].value_counts()"
   ]
  },
  {
   "cell_type": "code",
   "execution_count": 174,
   "metadata": {},
   "outputs": [],
   "source": [
    "y_test.to_csv('IYakovleva_predictions.csv', index=None)"
   ]
  }
 ],
 "metadata": {
  "kernelspec": {
   "display_name": "Python 3",
   "language": "python",
   "name": "python3"
  },
  "language_info": {
   "codemirror_mode": {
    "name": "ipython",
    "version": 3
   },
   "file_extension": ".py",
   "mimetype": "text/x-python",
   "name": "python",
   "nbconvert_exporter": "python",
   "pygments_lexer": "ipython3",
   "version": "3.7.3"
  }
 },
 "nbformat": 4,
 "nbformat_minor": 2
}
